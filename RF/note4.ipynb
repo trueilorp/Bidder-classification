{
 "cells": [
  {
   "cell_type": "markdown",
   "metadata": {},
   "source": [
    "# Feature engineering part 2 (Dealing with time)"
   ]
  },
  {
   "cell_type": "code",
   "execution_count": 3,
   "metadata": {},
   "outputs": [],
   "source": [
    "import pandas as pd\n",
    "from fep import FEP, load_features\n",
    "from sklearn.model_selection import train_test_split\n",
    "from sklearn.preprocessing import LabelEncoder"
   ]
  },
  {
   "cell_type": "code",
   "execution_count": 58,
   "metadata": {},
   "outputs": [],
   "source": [
    "# read data and split train and test\n",
    "bids = pd.read_csv('../Data/facebook/bids.csv')\n",
    "bidder = pd.read_csv('../Data/facebook/train.csv')\n",
    "X_bidder = bidder.drop(['outcome'],axis=1)\n",
    "y_bidder = bidder['outcome']\n",
    "X_train, X_test, y_train, y_test = train_test_split(X_bidder, y_bidder, random_state=42, stratify=y_bidder)\n",
    "df_train = pd.merge(bids, pd.concat([X_train, y_train], axis=1), on='bidder_id', how='inner')  \n",
    "df_test = pd.merge(bids, pd.concat([X_test, y_test], axis=1), on='bidder_id', how='inner') \n",
    "\n",
    "# Encoding bidder_id\n",
    "\n",
    "unique_bidders = pd.concat([df_train['bidder_id'], df_test['bidder_id']]).unique()\n",
    "bidder_mapping = {bidder_id: idx for idx, bidder_id in enumerate(unique_bidders)}\n",
    "df_train['encoded_bidder_id'] = df_train['bidder_id'].map(bidder_mapping)\n",
    "df_test['encoded_bidder_id'] = df_test['bidder_id'].map(bidder_mapping)\n",
    "\n",
    "\n",
    "# Encoding auction \n",
    "\n",
    "auctions = pd.concat([df_train['auction'], df_test['auction']]).unique()\n",
    "auction_mapping = {auction_id: idx for idx, auction_id in enumerate(auctions)}\n",
    "\n",
    "df_train['encoded_auction'] = df_train['auction'].map(auction_mapping)\n",
    "df_test['encoded_auction'] = df_test['auction'].map(auction_mapping)\n",
    "\n",
    "\n",
    "# dropping not encoded feature\n",
    "\n",
    "df_train.drop(['bidder_id', 'auction','payment_account','url','ip','country','device','merchandise','address', 'encoded_auction'],axis=1,inplace=True)\n",
    "df_test.drop(['bidder_id', 'auction','payment_account','url','ip','country','device','merchandise','address', 'encoded_auction'],axis=1,inplace=True)\n"
   ]
  },
  {
   "cell_type": "markdown",
   "metadata": {},
   "source": [
    "### Dealing with time"
   ]
  },
  {
   "cell_type": "markdown",
   "metadata": {},
   "source": [
    "We know that time is obscured, but preserve order and scale, so we can work with it."
   ]
  },
  {
   "cell_type": "markdown",
   "metadata": {},
   "source": [
    "##### Search for concurrent bid"
   ]
  },
  {
   "cell_type": "code",
   "execution_count": 59,
   "metadata": {},
   "outputs": [
    {
     "data": {
      "text/html": [
       "<div>\n",
       "<style scoped>\n",
       "    .dataframe tbody tr th:only-of-type {\n",
       "        vertical-align: middle;\n",
       "    }\n",
       "\n",
       "    .dataframe tbody tr th {\n",
       "        vertical-align: top;\n",
       "    }\n",
       "\n",
       "    .dataframe thead th {\n",
       "        text-align: right;\n",
       "    }\n",
       "</style>\n",
       "<table border=\"1\" class=\"dataframe\">\n",
       "  <thead>\n",
       "    <tr style=\"text-align: right;\">\n",
       "      <th></th>\n",
       "      <th>bid_id</th>\n",
       "      <th>time</th>\n",
       "      <th>outcome</th>\n",
       "      <th>encoded_bidder_id</th>\n",
       "    </tr>\n",
       "  </thead>\n",
       "  <tbody>\n",
       "    <tr>\n",
       "      <th>0</th>\n",
       "      <td>1</td>\n",
       "      <td>9759243157894736</td>\n",
       "      <td>0.0</td>\n",
       "      <td>0</td>\n",
       "    </tr>\n",
       "    <tr>\n",
       "      <th>1</th>\n",
       "      <td>25</td>\n",
       "      <td>9759243315789473</td>\n",
       "      <td>0.0</td>\n",
       "      <td>0</td>\n",
       "    </tr>\n",
       "    <tr>\n",
       "      <th>2</th>\n",
       "      <td>39</td>\n",
       "      <td>9759243368421052</td>\n",
       "      <td>0.0</td>\n",
       "      <td>0</td>\n",
       "    </tr>\n",
       "    <tr>\n",
       "      <th>3</th>\n",
       "      <td>42</td>\n",
       "      <td>9759243368421052</td>\n",
       "      <td>0.0</td>\n",
       "      <td>0</td>\n",
       "    </tr>\n",
       "    <tr>\n",
       "      <th>4</th>\n",
       "      <td>68</td>\n",
       "      <td>9759243526315789</td>\n",
       "      <td>0.0</td>\n",
       "      <td>0</td>\n",
       "    </tr>\n",
       "    <tr>\n",
       "      <th>...</th>\n",
       "      <td>...</td>\n",
       "      <td>...</td>\n",
       "      <td>...</td>\n",
       "      <td>...</td>\n",
       "    </tr>\n",
       "    <tr>\n",
       "      <th>2356670</th>\n",
       "      <td>7614200</td>\n",
       "      <td>9709028052631578</td>\n",
       "      <td>0.0</td>\n",
       "      <td>1483</td>\n",
       "    </tr>\n",
       "    <tr>\n",
       "      <th>2356671</th>\n",
       "      <td>7617228</td>\n",
       "      <td>9709041947368421</td>\n",
       "      <td>0.0</td>\n",
       "      <td>1483</td>\n",
       "    </tr>\n",
       "    <tr>\n",
       "      <th>2356672</th>\n",
       "      <td>7639758</td>\n",
       "      <td>9709146315789473</td>\n",
       "      <td>0.0</td>\n",
       "      <td>1484</td>\n",
       "    </tr>\n",
       "    <tr>\n",
       "      <th>2356673</th>\n",
       "      <td>7651414</td>\n",
       "      <td>9709200631578947</td>\n",
       "      <td>0.0</td>\n",
       "      <td>1485</td>\n",
       "    </tr>\n",
       "    <tr>\n",
       "      <th>2356674</th>\n",
       "      <td>7651994</td>\n",
       "      <td>9709203210526315</td>\n",
       "      <td>0.0</td>\n",
       "      <td>1486</td>\n",
       "    </tr>\n",
       "  </tbody>\n",
       "</table>\n",
       "<p>2356675 rows × 4 columns</p>\n",
       "</div>"
      ],
      "text/plain": [
       "          bid_id              time  outcome  encoded_bidder_id\n",
       "0              1  9759243157894736      0.0                  0\n",
       "1             25  9759243315789473      0.0                  0\n",
       "2             39  9759243368421052      0.0                  0\n",
       "3             42  9759243368421052      0.0                  0\n",
       "4             68  9759243526315789      0.0                  0\n",
       "...          ...               ...      ...                ...\n",
       "2356670  7614200  9709028052631578      0.0               1483\n",
       "2356671  7617228  9709041947368421      0.0               1483\n",
       "2356672  7639758  9709146315789473      0.0               1484\n",
       "2356673  7651414  9709200631578947      0.0               1485\n",
       "2356674  7651994  9709203210526315      0.0               1486\n",
       "\n",
       "[2356675 rows x 4 columns]"
      ]
     },
     "execution_count": 59,
     "metadata": {},
     "output_type": "execute_result"
    }
   ],
   "source": [
    "df_train"
   ]
  },
  {
   "cell_type": "code",
   "execution_count": 61,
   "metadata": {},
   "outputs": [],
   "source": [
    "time_df = df_train.sort_values(['encoded_bidder_id', 'time'])   \n",
    "temp_df = time_df.drop(['bid_id', 'outcome'],axis=1,inplace=False)\n",
    "temp_df = temp_df.groupby('encoded_bidder_id').diff().fillna(-1)   # We obtain the difference for each consecutive bid\n",
    "concurrent_bid = []\n",
    "for i in range(len(temp_df)):\n",
    "    if temp_df.iloc[i]['time'] == -1:\n",
    "        concurrent_bid.append(0)\n",
    "    elif temp_df.iloc[i]['time'] == 0:  # this is a concurrent bid\n",
    "        concurrent_bid.append(1)\n",
    "    else:\n",
    "        concurrent_bid.append(0)\n",
    "\n",
    "df_train['concurrent_flag'] = concurrent_bid"
   ]
  },
  {
   "cell_type": "code",
   "execution_count": null,
   "metadata": {},
   "outputs": [],
   "source": []
  }
 ],
 "metadata": {
  "kernelspec": {
   "display_name": "Python 3",
   "language": "python",
   "name": "python3"
  },
  "language_info": {
   "codemirror_mode": {
    "name": "ipython",
    "version": 3
   },
   "file_extension": ".py",
   "mimetype": "text/x-python",
   "name": "python",
   "nbconvert_exporter": "python",
   "pygments_lexer": "ipython3",
   "version": "3.9.2"
  }
 },
 "nbformat": 4,
 "nbformat_minor": 2
}
