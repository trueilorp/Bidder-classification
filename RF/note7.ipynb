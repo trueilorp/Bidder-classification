{
 "cells": [
  {
   "cell_type": "code",
   "execution_count": 49,
   "metadata": {},
   "outputs": [],
   "source": [
    "import pandas as pd\n",
    "from fep import FEP, load_features\n",
    "from sklearn.model_selection import train_test_split\n",
    "from sklearn.preprocessing import LabelEncoder\n",
    "from sklearn.model_selection import train_test_split\n",
    "from sklearn.tree import DecisionTreeClassifier\n",
    "from sklearn.metrics import confusion_matrix, ConfusionMatrixDisplay, classification_report\n",
    "import matplotlib.pyplot as plt\n",
    "from sklearn.metrics import roc_auc_score\n",
    "import seaborn as sns\n",
    "from sklearn.ensemble import RandomForestClassifier\n",
    "from sklearn.svm import SVC\n",
    "from sklearn.metrics import f1_score\n",
    "import numpy as np\n",
    "import pandas as pd\n",
    "from sklearn.ensemble import RandomForestClassifier\n",
    "from sklearn.model_selection import train_test_split\n",
    "from sklearn.metrics import f1_score, recall_score"
   ]
  },
  {
   "cell_type": "code",
   "execution_count": 6,
   "metadata": {},
   "outputs": [],
   "source": [
    "def svm_model_evaluation(df):\n",
    "    X = df.drop(columns=['outcome'])  \n",
    "    y = df['outcome']                \n",
    "\n",
    "    X_train, X_test, y_train, y_test = train_test_split(X, y, test_size=0.3, random_state=42)\n",
    "\n",
    "    svm_model = SVC(kernel='linear', probability=True, random_state=42)\n",
    "    svm_model.fit(X_train, y_train)\n",
    "\n",
    "    # Model evaluation\n",
    "    y_pred = svm_model.predict(X_test)\n",
    "    y_proba = svm_model.predict_proba(X_test)[:, 1]\n",
    "\n",
    "    conf_matrix = confusion_matrix(y_test, y_pred)\n",
    "    disp = ConfusionMatrixDisplay(confusion_matrix=conf_matrix, display_labels=svm_model.classes_)\n",
    "    disp.plot(cmap=\"Blues\", values_format='d')\n",
    "    plt.title(\"Confusion Matrix\")\n",
    "    plt.show()\n",
    "    \n",
    "    print(classification_report(y_test, y_pred))\n",
    "    auc_score = roc_auc_score(y_test, y_proba)\n",
    "    print(\"ROC AUC Score:\", auc_score)\n"
   ]
  },
  {
   "cell_type": "code",
   "execution_count": 17,
   "metadata": {},
   "outputs": [],
   "source": [
    "def random_forest(df):\n",
    "    X = df.drop(columns=['outcome'])  \n",
    "    y = df['outcome']                \n",
    "\n",
    "\n",
    "    X_train, X_test, y_train, y_test = train_test_split(X, y, test_size=0.3, random_state=42)\n",
    "\n",
    "\n",
    "    dt_model = RandomForestClassifier(n_estimators=5)\n",
    "    dt_model.fit(X_train, y_train)\n",
    "\n",
    "\n",
    "    importances = dt_model.feature_importances_\n",
    "    feature_names = X.columns\n",
    "\n",
    "\n",
    "    plt.figure(figsize=(10, 6))\n",
    "    plt.barh(feature_names, importances, color='skyblue')\n",
    "    plt.xlabel(\"Feature Importance\")\n",
    "    plt.title(\"Feature Importance in Decision Tree\")\n",
    "    plt.show()\n",
    "\n",
    "\n",
    "    y_pred = dt_model.predict(X_test)\n",
    "\n",
    "\n",
    "    conf_matrix = confusion_matrix(y_test, y_pred)\n",
    "    disp = ConfusionMatrixDisplay(confusion_matrix=conf_matrix, display_labels=dt_model.classes_)\n",
    "    disp.plot(cmap=\"Blues\", values_format='d')\n",
    "    plt.title(\"Confusion Matrix\")\n",
    "    plt.show()\n",
    "\n",
    "    print(classification_report(y_test,y_pred))\n",
    "    y_proba = dt_model.predict_proba(X_test)[:, 1]\n",
    "\n",
    "    auc_score = roc_auc_score(y_test, y_proba)\n",
    "    print(\"ROC AUC Score:\", auc_score)"
   ]
  },
  {
   "cell_type": "code",
   "execution_count": 7,
   "metadata": {},
   "outputs": [],
   "source": [
    "# import data\n",
    "bids = pd.read_csv('../Data/facebook/bids.csv')\n",
    "bidder = pd.read_csv('../Data/facebook/train.csv')"
   ]
  },
  {
   "cell_type": "code",
   "execution_count": 8,
   "metadata": {},
   "outputs": [],
   "source": [
    "# fill contry with the mode.\n",
    "bids['country'].fillna(bids['country'].mode()[0], inplace = True)   "
   ]
  },
  {
   "cell_type": "code",
   "execution_count": 9,
   "metadata": {},
   "outputs": [],
   "source": [
    "# encoding \n",
    "unique_bidders = pd.concat([bids['bidder_id'], bidder['bidder_id']]).unique()\n",
    "bidder_mapping = {bidder_id: idx for idx, bidder_id in enumerate(unique_bidders)}\n",
    "bids['encoded_bidder_id'] = bids['bidder_id'].map(bidder_mapping)\n",
    "bidder['encoded_bidder_id'] = bidder['bidder_id'].map(bidder_mapping)\n",
    "bids.drop('bidder_id', axis=1, inplace=True)\n",
    "bidder.drop('bidder_id', axis=1, inplace=True)\n",
    "\n",
    "# drop useless bidder features\n",
    "bidder.drop(['payment_account', 'address'], axis=1, inplace=True)"
   ]
  },
  {
   "cell_type": "code",
   "execution_count": 10,
   "metadata": {},
   "outputs": [],
   "source": [
    "# extract and merge count features\n",
    "count_for_bidder = bids.groupby(\"encoded_bidder_id\").nunique()\n",
    "df_train_bidder = pd.merge(bidder, count_for_bidder, on='encoded_bidder_id', how='left') # drop the right \n",
    "df_train_bidder = df_train_bidder.rename(columns = {'bid_id': 'N_bids', 'auction': 'N_auctions', 'merchandise': 'N_merchandise', 'device': 'N_device', 'time': 'N_time', 'country': 'N_country', 'ip': 'N_ip', 'url': 'N_url'})"
   ]
  },
  {
   "cell_type": "code",
   "execution_count": 11,
   "metadata": {},
   "outputs": [],
   "source": [
    "# extract number of bids for something\n",
    "df_train_bidder['bids/url'] = df_train_bidder['N_bids'] / df_train_bidder['N_url']\n",
    "df_train_bidder['bids/ip'] = df_train_bidder['N_bids'] / df_train_bidder['N_ip']\n",
    "df_train_bidder['bids/auctions'] = df_train_bidder['N_bids'] / df_train_bidder['N_auctions']\n",
    "df_train_bidder['bids/country'] = df_train_bidder['N_bids'] / df_train_bidder['N_country']\n",
    "df_train_bidder['bids/device'] = df_train_bidder['N_bids'] / df_train_bidder['N_device']\n",
    "df_train_bidder = df_train_bidder.fillna(0) # fill NaN with 0 for bidders that never placed a bid"
   ]
  },
  {
   "cell_type": "code",
   "execution_count": 12,
   "metadata": {},
   "outputs": [],
   "source": [
    "df_time = bids.drop(['bid_id', 'country', 'merchandise', 'device', 'url', 'ip', 'auction'],axis=1, inplace=False)\n",
    "temp = df_time.copy()\n",
    "df_time['difference'] = temp.groupby('encoded_bidder_id').diff() \n",
    "# we can drop NaN that are the first bid of each bidder\n",
    "df_time.dropna(inplace = True)\n",
    "\n",
    "count_concurrent_bids = df_time[df_time['difference']==0].groupby('encoded_bidder_id').count().drop('time', axis=1)\n",
    "count_concurrent_bids.rename(columns = {'difference': 'count_concurrent_bids'}, inplace=True)\n",
    "df_train_bidder = pd.merge(df_train_bidder, count_concurrent_bids, on='encoded_bidder_id', how='left').fillna(0)\n",
    "\n",
    "temp = df_time.groupby('encoded_bidder_id')['difference'].describe()\n",
    "temp.drop(['count'], axis=1, inplace=True)\n",
    "temp.rename(columns = {'mean': 'mean_difference', 'std': 'std_difference', 'min': 'min_difference', 'max':'max_difference', '50%':'median_difference', '25%':'25_difference', '75%':'75_difference'}, inplace=True)\n",
    "temp['iqrDiff'] = temp['75_difference']-temp['25_difference']\n",
    "df_train_bidder = pd.merge(df_train_bidder, temp, on='encoded_bidder_id', how='left').fillna(0)"
   ]
  },
  {
   "cell_type": "code",
   "execution_count": 13,
   "metadata": {},
   "outputs": [],
   "source": [
    "temp_df = bids.sort_values(['auction', 'time'])\n",
    "winner_bids = temp_df.groupby('auction').max('time')\n",
    "count_win = winner_bids.groupby('encoded_bidder_id').count().drop('time',axis=1, inplace=False).rename(columns = {'bid_id': 'N_win'})\n",
    "df_train_bidder = pd.merge(df_train_bidder, count_win, on='encoded_bidder_id', how='left').fillna(0)"
   ]
  },
  {
   "cell_type": "code",
   "execution_count": 14,
   "metadata": {},
   "outputs": [],
   "source": [
    "temp_df = bids.sort_values(['auction', 'time'])\n",
    "temp_df = temp_df.drop(['bid_id','merchandise','device','country','ip','url'],axis=1, inplace=False)\n",
    "\n",
    "auct_duration = bids.sort_values(['auction', 'time'])[['encoded_bidder_id', 'auction', 'time']]\n",
    "auct_duration = auct_duration[['auction', 'time']].groupby('auction').quantile(0.75).reset_index()\n",
    "auct_duration.rename(columns={'time': 'q75'}, inplace=True)\n",
    "\n",
    "temp_df = temp_df.merge(auct_duration, on='auction')\n",
    "temp_df.fillna(0)\n",
    "bidder_q75_counts = temp_df.groupby('encoded_bidder_id').apply(lambda x: (x['time'] > x['q75']).sum()).reset_index(name='q75_bid_count')\n",
    "df_train_bidder = pd.merge(df_train_bidder, bidder_q75_counts, on='encoded_bidder_id', how='left').fillna(0)"
   ]
  },
  {
   "cell_type": "code",
   "execution_count": 82,
   "metadata": {},
   "outputs": [],
   "source": [
    "df = df_train_bidder.drop(['encoded_bidder_id'],axis=1,inplace=False)"
   ]
  },
  {
   "cell_type": "code",
   "execution_count": 83,
   "metadata": {},
   "outputs": [
    {
     "data": {
      "text/plain": [
       "Index(['outcome', 'N_bids', 'N_auctions', 'N_merchandise', 'N_device',\n",
       "       'N_time', 'N_country', 'N_ip', 'N_url', 'bids/url', 'bids/ip',\n",
       "       'bids/auctions', 'bids/country', 'bids/device', 'count_concurrent_bids',\n",
       "       'mean_difference', 'std_difference', 'min_difference', '25_difference',\n",
       "       'median_difference', '75_difference', 'max_difference', 'iqrDiff',\n",
       "       'N_win', 'q75_bid_count'],\n",
       "      dtype='object')"
      ]
     },
     "execution_count": 83,
     "metadata": {},
     "output_type": "execute_result"
    }
   ],
   "source": [
    "df.columns"
   ]
  },
  {
   "cell_type": "code",
   "execution_count": 81,
   "metadata": {},
   "outputs": [],
   "source": [
    "# here fro pre-drop"
   ]
  },
  {
   "cell_type": "markdown",
   "metadata": {},
   "source": [
    "### Feature selection"
   ]
  },
  {
   "cell_type": "code",
   "execution_count": 185,
   "metadata": {},
   "outputs": [
    {
     "name": "stdout",
     "output_type": "stream",
     "text": [
      "Selected Features Index: [16, 2, 12, 4, 7, 20, 22, 8, 19, 0, 15, 3, 18, 5, 6, 23, 11, 17, 1, 14, 9], score: 0.8990628410039155\n",
      "len: 21\n"
     ]
    }
   ],
   "source": [
    "X, y = df.drop(columns=['outcome']), df['outcome']\n",
    "X_train, X_validation, y_train, y_validation = train_test_split(X, y, test_size=0.3, random_state=42)\n",
    "\n",
    "n_features = X.shape[1]\n",
    "\n",
    "best_model = None\n",
    "best_score = 0\n",
    "best_features = []\n",
    "\n",
    "\n",
    "all_features = list(range(n_features))\n",
    "\n",
    "\n",
    "while n_features > 0:\n",
    "    best = 0\n",
    "    best_feature = None\n",
    "    selected_features = best_features.copy()  # Mantieni le migliori feature selezionate fino a quel punto\n",
    "\n",
    "    for feature in all_features:\n",
    "        if feature not in selected_features:\n",
    "            current_features = selected_features + [feature]\n",
    "            model = RandomForestClassifier(n_estimators=5, random_state=42)\n",
    "            \n",
    "            model.fit(X_train.iloc[:, current_features], y_train)\n",
    "            y_pred = model.predict(X_validation.iloc[:, current_features])    \n",
    "\n",
    "            # max recall\n",
    "            #score = recall_score(y_validation, y_pred, average='weighted')\n",
    "\n",
    "            # max auc score\n",
    "            y_probs = model.predict_proba(X_validation.iloc[:, current_features])\n",
    "            score = roc_auc_score(y_validation, y_probs[:, 1])\n",
    "\n",
    "            # max f1\n",
    "            #score = f1_score(y_validation, y_pred, average='weighted')\n",
    "\n",
    "            if score > best:\n",
    "                best = score\n",
    "                best_feature = feature\n",
    "\n",
    "    if best_feature is not None:\n",
    "        best_features.append(best_feature)\n",
    "        if best > best_score:\n",
    "            best_score = best\n",
    "            best_model = best_features.copy()  \n",
    "\n",
    "    n_features -= 1  \n",
    "\n",
    "print(f\"Selected Features Index: {best_model}, score: {best_score}\")\n",
    "print(f\"len: {len(best_model)}\")\n"
   ]
  },
  {
   "cell_type": "code",
   "execution_count": 186,
   "metadata": {},
   "outputs": [
    {
     "name": "stdout",
     "output_type": "stream",
     "text": [
      "Selected Feature Names: Index(['min_difference', 'N_merchandise', 'bids/device', 'N_time', 'N_url',\n",
      "       'max_difference', 'N_win', 'bids/url', '75_difference', 'N_bids',\n",
      "       'std_difference', 'N_device', 'median_difference', 'N_country', 'N_ip',\n",
      "       'q75_bid_count', 'bids/country', '25_difference', 'N_auctions',\n",
      "       'mean_difference', 'bids/ip'],\n",
      "      dtype='object')\n"
     ]
    }
   ],
   "source": [
    "selected_feature_names = X.columns[best_model]\n",
    "\n",
    "print(\"Selected Feature Names:\", selected_feature_names)"
   ]
  },
  {
   "cell_type": "markdown",
   "metadata": {},
   "source": [
    "### Oversampling SMOTE"
   ]
  },
  {
   "cell_type": "code",
   "execution_count": 187,
   "metadata": {},
   "outputs": [],
   "source": [
    "X_train_selected = X_train.iloc[:, best_model]\n",
    "X_validation_selected = X_validation.iloc[:, best_model]"
   ]
  },
  {
   "cell_type": "code",
   "execution_count": 188,
   "metadata": {},
   "outputs": [
    {
     "name": "stdout",
     "output_type": "stream",
     "text": [
      "Distribuzione dopo SMOTE: outcome\n",
      "0.0    1333\n",
      "1.0    1333\n",
      "Name: count, dtype: int64\n"
     ]
    }
   ],
   "source": [
    "from imblearn.over_sampling import SMOTE\n",
    "\n",
    "# Applica SMOTE per bilanciare il dataset\n",
    "smote = SMOTE(sampling_strategy='auto', random_state=42)\n",
    "X_resampled, y_resampled = smote.fit_resample(X_train_selected, y_train)\n",
    "\n",
    "# Verifica il nuovo bilanciamento delle classi\n",
    "print(\"Distribuzione dopo SMOTE:\", pd.Series(y_resampled).value_counts())"
   ]
  },
  {
   "cell_type": "markdown",
   "metadata": {},
   "source": [
    "### Model validation"
   ]
  },
  {
   "cell_type": "code",
   "execution_count": 179,
   "metadata": {},
   "outputs": [
    {
     "data": {
      "image/png": "[encoded data removed]",
      "text/plain": [
       "<Figure size 600x500 with 2 Axes>"
      ]
     },
     "metadata": {},
     "output_type": "display_data"
    },
    {
     "name": "stdout",
     "output_type": "stream",
     "text": [
      "Classification Report:\n",
      "              precision    recall  f1-score   support\n",
      "\n",
      "         0.0       0.98      0.94      0.96       577\n",
      "         1.0       0.35      0.67      0.46        27\n",
      "\n",
      "    accuracy                           0.93       604\n",
      "   macro avg       0.67      0.80      0.71       604\n",
      "weighted avg       0.96      0.93      0.94       604\n",
      "\n"
     ]
    }
   ],
   "source": [
    "final_model = RandomForestClassifier(n_estimators=7, random_state=42)\n",
    "final_model.fit(X_resampled, y_resampled)\n",
    "\n",
    "y_pred = final_model.predict(X_validation_selected)\n",
    "\n",
    "cm = confusion_matrix(y_validation, y_pred)\n",
    "\n",
    "plt.figure(figsize=(6,5))\n",
    "sns.heatmap(cm, annot=True, fmt=\"d\", cmap=\"Blues\", xticklabels=np.unique(y), yticklabels=np.unique(y))\n",
    "plt.xlabel(\"Predicted\")\n",
    "plt.ylabel(\"Actual\")\n",
    "plt.title(\"Confusion Matrix\")\n",
    "plt.show()\n",
    "\n",
    "print(\"Classification Report:\")\n",
    "print(classification_report(y_validation, y_pred))"
   ]
  },
  {
   "cell_type": "code",
   "execution_count": 189,
   "metadata": {},
   "outputs": [
    {
     "name": "stdout",
     "output_type": "stream",
     "text": [
      "ROC AUC Score: 0.8934\n"
     ]
    }
   ],
   "source": [
    "y_probs = final_model.predict_proba(X_validation_selected)\n",
    "roc_auc = roc_auc_score(y_validation, y_probs[:, 1])\n",
    "print(f\"ROC AUC Score: {roc_auc:.4f}\")"
   ]
  }
 ],
 "metadata": {
  "kernelspec": {
   "display_name": "Python 3",
   "language": "python",
   "name": "python3"
  },
  "language_info": {
   "codemirror_mode": {
    "name": "ipython",
    "version": 3
   },
   "file_extension": ".py",
   "mimetype": "text/x-python",
   "name": "python",
   "nbconvert_exporter": "python",
   "pygments_lexer": "ipython3",
   "version": "3.9.2"
  }
 },
 "nbformat": 4,
 "nbformat_minor": 2
}
