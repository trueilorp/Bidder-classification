{
 "cells": [
  {
   "cell_type": "markdown",
   "metadata": {},
   "source": [
    "### Feature Extraction Pipeline for Data Processing"
   ]
  },
  {
   "cell_type": "code",
   "execution_count": 30,
   "metadata": {},
   "outputs": [],
   "source": [
    "# import here\n",
    "import pandas as pd\n",
    "from typing import Callable\n",
    "\n",
    "# function for load features\n",
    "\n",
    "def load_features(path:str):\n",
    "    data = pd.read_csv(path)\n",
    "    return data\n",
    "\n",
    "# class for feature extraction pipeline\n",
    "\n",
    "class FEP:\n",
    "    def __init__(self, path:str):\n",
    "        self.path = path\n",
    "\n",
    "    def save_features(self):\n",
    "        self.data.to_csv(f'{self.path}', index=False)\n",
    "\n",
    "    def extract_features(self, df:pd.DataFrame, feature_function: Callable[[pd.DataFrame], pd.DataFrame]):\n",
    "        self.data = feature_function(df)\n",
    "        return self.data\n",
    "\n",
    "    def run(self, df:pd.DataFrame, feature_function: Callable[[pd.DataFrame], pd.DataFrame]):\n",
    "        self.extract_features(df, feature_function)\n",
    "        self.save_features()\n",
    "\n"
   ]
  },
  {
   "cell_type": "code",
   "execution_count": 32,
   "metadata": {},
   "outputs": [],
   "source": [
    "def custom_feature_extraction(df: pd.DataFrame) -> pd.Series:\n",
    "    features = pd.DataFrame()\n",
    "    features['feature_1'] = df['col1'] * 2\n",
    "    features['feature_2'] = df['col2'].apply(lambda x: len(str(x)))\n",
    "    return features\n",
    "\n",
    "data = pd.DataFrame({\n",
    "    \"col1\": [1, 2, 3],\n",
    "    \"col2\": [\"abc\", \"defg\", \"hi\"]\n",
    "})\n",
    "\n",
    "\n",
    "pipeline = FEP(\"features_extracted/prova.csv\")\n",
    "pipeline.run(data, custom_feature_extraction)\n"
   ]
  },
  {
   "cell_type": "code",
   "execution_count": null,
   "metadata": {},
   "outputs": [],
   "source": [
    "load_features(\"features_extracted/prova.csv\")"
   ]
  }
 ],
 "metadata": {
  "kernelspec": {
   "display_name": "Python 3",
   "language": "python",
   "name": "python3"
  },
  "language_info": {
   "codemirror_mode": {
    "name": "ipython",
    "version": 3
   },
   "file_extension": ".py",
   "mimetype": "text/x-python",
   "name": "python",
   "nbconvert_exporter": "python",
   "pygments_lexer": "ipython3",
   "version": "3.9.2"
  }
 },
 "nbformat": 4,
 "nbformat_minor": 2
}
