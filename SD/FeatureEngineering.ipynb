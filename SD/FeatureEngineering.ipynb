{
 "cells": [
  {
   "cell_type": "markdown",
   "metadata": {},
   "source": [
    "# Feature engineering"
   ]
  },
  {
   "cell_type": "code",
   "execution_count": 12,
   "metadata": {},
   "outputs": [],
   "source": [
    "# import \n",
    "import pandas as pd\n",
    "from sklearn.model_selection import train_test_split\n",
    "from sklearn.preprocessing import LabelEncoder\n"
   ]
  },
  {
   "cell_type": "code",
   "execution_count": null,
   "metadata": {},
   "outputs": [],
   "source": [
    "bids = pd.read_csv('Data/bids.csv')\n",
    "bidder = pd.read_csv('Data/train.csv')"
   ]
  },
  {
   "cell_type": "code",
   "execution_count": 54,
   "metadata": {},
   "outputs": [
    {
     "data": {
      "text/plain": [
       "(2013, 4)"
      ]
     },
     "execution_count": 54,
     "metadata": {},
     "output_type": "execute_result"
    }
   ],
   "source": [
    "bidder.head(5)\n",
    "bidder.shape"
   ]
  },
  {
   "cell_type": "markdown",
   "metadata": {},
   "source": [
    "### train and test set"
   ]
  },
  {
   "cell_type": "code",
   "execution_count": 14,
   "metadata": {},
   "outputs": [],
   "source": [
    "X_bidder = bidder.drop(['outcome'],axis=1)\n",
    "y_bidder = bidder['outcome']\n",
    "X_train, X_test, y_train, y_test = train_test_split(X_bidder, y_bidder, random_state=42, stratify=y_bidder)"
   ]
  },
  {
   "cell_type": "code",
   "execution_count": 41,
   "metadata": {},
   "outputs": [],
   "source": [
    "df_train = pd.merge(bids, pd.concat([X_train, y_train], axis=1), on='bidder_id', how='inner')\n",
    "df_test = pd.merge(bids, pd.concat([X_test, y_test], axis=1), on='bidder_id', how='inner')"
   ]
  },
  {
   "cell_type": "code",
   "execution_count": 65,
   "metadata": {},
   "outputs": [
    {
     "name": "stdout",
     "output_type": "stream",
     "text": [
      "(2356675, 12) (714549, 12)\n"
     ]
    }
   ],
   "source": [
    "print(df_train.shape, df_test.shape)"
   ]
  },
  {
   "cell_type": "markdown",
   "metadata": {},
   "source": [
    "Encoding\n",
    "- pd.concat() unisce le colonne bidder_id di df_train e df_test.\n",
    "- .unique() restituisce una lista di valori univoci di bidder_id presenti in entrambi i dataset, eliminando duplicati.\n",
    "- enumerate(unique_bidders) associa un indice numerico (da 0 in poi) a ciascun valore unico di bidder_id.\n",
    "- Successivamente viene creata la nuova colonna 'encoded_bidder_id' e viene riempita con i valori corrispondenti nella mappa"
   ]
  },
  {
   "cell_type": "code",
   "execution_count": 42,
   "metadata": {},
   "outputs": [],
   "source": [
    "unique_bidders = pd.concat([df_train['bidder_id'], df_test['bidder_id']]).unique()\n",
    "bidder_mapping = {bidder_id: idx for idx, bidder_id in enumerate(unique_bidders)}\n",
    "df_train['encoded_bidder_id'] = df_train['bidder_id'].map(bidder_mapping)\n",
    "df_test['encoded_bidder_id'] = df_test['bidder_id'].map(bidder_mapping)"
   ]
  },
  {
   "cell_type": "code",
   "execution_count": 43,
   "metadata": {},
   "outputs": [],
   "source": [
    "df_train.drop('bidder_id',axis=1,inplace=True)\n",
    "df_test.drop('bidder_id',axis=1,inplace=True)"
   ]
  },
  {
   "cell_type": "code",
   "execution_count": 88,
   "metadata": {},
   "outputs": [
    {
     "data": {
      "text/html": [
       "<div>\n",
       "<style scoped>\n",
       "    .dataframe tbody tr th:only-of-type {\n",
       "        vertical-align: middle;\n",
       "    }\n",
       "\n",
       "    .dataframe tbody tr th {\n",
       "        vertical-align: top;\n",
       "    }\n",
       "\n",
       "    .dataframe thead th {\n",
       "        text-align: right;\n",
       "    }\n",
       "</style>\n",
       "<table border=\"1\" class=\"dataframe\">\n",
       "  <thead>\n",
       "    <tr style=\"text-align: right;\">\n",
       "      <th></th>\n",
       "      <th>bid_id</th>\n",
       "      <th>auction</th>\n",
       "      <th>merchandise</th>\n",
       "      <th>device</th>\n",
       "      <th>time</th>\n",
       "      <th>country</th>\n",
       "      <th>ip</th>\n",
       "      <th>url</th>\n",
       "      <th>payment_account</th>\n",
       "      <th>address</th>\n",
       "      <th>outcome</th>\n",
       "      <th>encoded_bidder_id</th>\n",
       "    </tr>\n",
       "  </thead>\n",
       "  <tbody>\n",
       "    <tr>\n",
       "      <th>0</th>\n",
       "      <td>1</td>\n",
       "      <td>aeqok</td>\n",
       "      <td>furniture</td>\n",
       "      <td>phone1</td>\n",
       "      <td>9759243157894736</td>\n",
       "      <td>in</td>\n",
       "      <td>50.201.125.84</td>\n",
       "      <td>jmqlhflrzwuay9c</td>\n",
       "      <td>a3d2de7675556553a5f08e4c88d2c228ucoac</td>\n",
       "      <td>42a3b61a1fe69d66ad60f3e347aa09b1erfe2</td>\n",
       "      <td>0.0</td>\n",
       "      <td>0</td>\n",
       "    </tr>\n",
       "    <tr>\n",
       "      <th>1</th>\n",
       "      <td>25</td>\n",
       "      <td>38v0a</td>\n",
       "      <td>furniture</td>\n",
       "      <td>phone4</td>\n",
       "      <td>9759243315789473</td>\n",
       "      <td>bd</td>\n",
       "      <td>147.64.206.30</td>\n",
       "      <td>vasstdc27m7nks3</td>\n",
       "      <td>a3d2de7675556553a5f08e4c88d2c228ucoac</td>\n",
       "      <td>42a3b61a1fe69d66ad60f3e347aa09b1erfe2</td>\n",
       "      <td>0.0</td>\n",
       "      <td>0</td>\n",
       "    </tr>\n",
       "    <tr>\n",
       "      <th>2</th>\n",
       "      <td>39</td>\n",
       "      <td>aeqok</td>\n",
       "      <td>furniture</td>\n",
       "      <td>phone35</td>\n",
       "      <td>9759243368421052</td>\n",
       "      <td>in</td>\n",
       "      <td>75.11.239.20</td>\n",
       "      <td>i92xwb95qdo901j</td>\n",
       "      <td>a3d2de7675556553a5f08e4c88d2c228ucoac</td>\n",
       "      <td>42a3b61a1fe69d66ad60f3e347aa09b1erfe2</td>\n",
       "      <td>0.0</td>\n",
       "      <td>0</td>\n",
       "    </tr>\n",
       "    <tr>\n",
       "      <th>3</th>\n",
       "      <td>42</td>\n",
       "      <td>jkyzt</td>\n",
       "      <td>furniture</td>\n",
       "      <td>phone38</td>\n",
       "      <td>9759243368421052</td>\n",
       "      <td>in</td>\n",
       "      <td>215.203.78.242</td>\n",
       "      <td>s4hrzaqd5vbq2he</td>\n",
       "      <td>a3d2de7675556553a5f08e4c88d2c228ucoac</td>\n",
       "      <td>42a3b61a1fe69d66ad60f3e347aa09b1erfe2</td>\n",
       "      <td>0.0</td>\n",
       "      <td>0</td>\n",
       "    </tr>\n",
       "    <tr>\n",
       "      <th>4</th>\n",
       "      <td>68</td>\n",
       "      <td>h2xrf</td>\n",
       "      <td>furniture</td>\n",
       "      <td>phone57</td>\n",
       "      <td>9759243526315789</td>\n",
       "      <td>in</td>\n",
       "      <td>134.198.237.242</td>\n",
       "      <td>1euklxshlldto4z</td>\n",
       "      <td>a3d2de7675556553a5f08e4c88d2c228ucoac</td>\n",
       "      <td>42a3b61a1fe69d66ad60f3e347aa09b1erfe2</td>\n",
       "      <td>0.0</td>\n",
       "      <td>0</td>\n",
       "    </tr>\n",
       "  </tbody>\n",
       "</table>\n",
       "</div>"
      ],
      "text/plain": [
       "   bid_id auction merchandise   device              time country  \\\n",
       "0       1   aeqok   furniture   phone1  9759243157894736      in   \n",
       "1      25   38v0a   furniture   phone4  9759243315789473      bd   \n",
       "2      39   aeqok   furniture  phone35  9759243368421052      in   \n",
       "3      42   jkyzt   furniture  phone38  9759243368421052      in   \n",
       "4      68   h2xrf   furniture  phone57  9759243526315789      in   \n",
       "\n",
       "                ip              url                        payment_account  \\\n",
       "0    50.201.125.84  jmqlhflrzwuay9c  a3d2de7675556553a5f08e4c88d2c228ucoac   \n",
       "1    147.64.206.30  vasstdc27m7nks3  a3d2de7675556553a5f08e4c88d2c228ucoac   \n",
       "2     75.11.239.20  i92xwb95qdo901j  a3d2de7675556553a5f08e4c88d2c228ucoac   \n",
       "3   215.203.78.242  s4hrzaqd5vbq2he  a3d2de7675556553a5f08e4c88d2c228ucoac   \n",
       "4  134.198.237.242  1euklxshlldto4z  a3d2de7675556553a5f08e4c88d2c228ucoac   \n",
       "\n",
       "                                 address  outcome  encoded_bidder_id  \n",
       "0  42a3b61a1fe69d66ad60f3e347aa09b1erfe2      0.0                  0  \n",
       "1  42a3b61a1fe69d66ad60f3e347aa09b1erfe2      0.0                  0  \n",
       "2  42a3b61a1fe69d66ad60f3e347aa09b1erfe2      0.0                  0  \n",
       "3  42a3b61a1fe69d66ad60f3e347aa09b1erfe2      0.0                  0  \n",
       "4  42a3b61a1fe69d66ad60f3e347aa09b1erfe2      0.0                  0  "
      ]
     },
     "execution_count": 88,
     "metadata": {},
     "output_type": "execute_result"
    }
   ],
   "source": [
    "df_train.head(5)"
   ]
  },
  {
   "cell_type": "code",
   "execution_count": 89,
   "metadata": {},
   "outputs": [
    {
     "data": {
      "text/html": [
       "<div>\n",
       "<style scoped>\n",
       "    .dataframe tbody tr th:only-of-type {\n",
       "        vertical-align: middle;\n",
       "    }\n",
       "\n",
       "    .dataframe tbody tr th {\n",
       "        vertical-align: top;\n",
       "    }\n",
       "\n",
       "    .dataframe thead th {\n",
       "        text-align: right;\n",
       "    }\n",
       "</style>\n",
       "<table border=\"1\" class=\"dataframe\">\n",
       "  <thead>\n",
       "    <tr style=\"text-align: right;\">\n",
       "      <th></th>\n",
       "      <th>bid_id</th>\n",
       "      <th>auction</th>\n",
       "      <th>merchandise</th>\n",
       "      <th>device</th>\n",
       "      <th>time</th>\n",
       "      <th>country</th>\n",
       "      <th>ip</th>\n",
       "      <th>url</th>\n",
       "      <th>payment_account</th>\n",
       "      <th>address</th>\n",
       "      <th>outcome</th>\n",
       "      <th>encoded_bidder_id</th>\n",
       "    </tr>\n",
       "  </thead>\n",
       "  <tbody>\n",
       "    <tr>\n",
       "      <th>0</th>\n",
       "      <td>44</td>\n",
       "      <td>958x1</td>\n",
       "      <td>mobile</td>\n",
       "      <td>phone42</td>\n",
       "      <td>9759243368421052</td>\n",
       "      <td>in</td>\n",
       "      <td>254.254.37.252</td>\n",
       "      <td>onbgo5s1m97rxur</td>\n",
       "      <td>ca482605ca991c5febd0c4a9fd28b6814l275</td>\n",
       "      <td>c1798623ef4c119237f11b9e6622883bsa47l</td>\n",
       "      <td>0.0</td>\n",
       "      <td>1487</td>\n",
       "    </tr>\n",
       "    <tr>\n",
       "      <th>1</th>\n",
       "      <td>276</td>\n",
       "      <td>38v0a</td>\n",
       "      <td>mobile</td>\n",
       "      <td>phone38</td>\n",
       "      <td>9759244631578947</td>\n",
       "      <td>in</td>\n",
       "      <td>232.98.19.153</td>\n",
       "      <td>dy77rf6vkosrlhn</td>\n",
       "      <td>ca482605ca991c5febd0c4a9fd28b6814l275</td>\n",
       "      <td>c1798623ef4c119237f11b9e6622883bsa47l</td>\n",
       "      <td>0.0</td>\n",
       "      <td>1487</td>\n",
       "    </tr>\n",
       "    <tr>\n",
       "      <th>2</th>\n",
       "      <td>470</td>\n",
       "      <td>sz8v4</td>\n",
       "      <td>mobile</td>\n",
       "      <td>phone47</td>\n",
       "      <td>9759245684210526</td>\n",
       "      <td>in</td>\n",
       "      <td>210.30.25.7</td>\n",
       "      <td>9ty3boywvns4a3p</td>\n",
       "      <td>ca482605ca991c5febd0c4a9fd28b6814l275</td>\n",
       "      <td>c1798623ef4c119237f11b9e6622883bsa47l</td>\n",
       "      <td>0.0</td>\n",
       "      <td>1487</td>\n",
       "    </tr>\n",
       "    <tr>\n",
       "      <th>3</th>\n",
       "      <td>693</td>\n",
       "      <td>19fz7</td>\n",
       "      <td>mobile</td>\n",
       "      <td>phone3</td>\n",
       "      <td>9759246947368421</td>\n",
       "      <td>in</td>\n",
       "      <td>166.108.111.41</td>\n",
       "      <td>ezydp6vg4kwxi0m</td>\n",
       "      <td>ca482605ca991c5febd0c4a9fd28b6814l275</td>\n",
       "      <td>c1798623ef4c119237f11b9e6622883bsa47l</td>\n",
       "      <td>0.0</td>\n",
       "      <td>1487</td>\n",
       "    </tr>\n",
       "    <tr>\n",
       "      <th>4</th>\n",
       "      <td>804</td>\n",
       "      <td>19fz7</td>\n",
       "      <td>mobile</td>\n",
       "      <td>phone3</td>\n",
       "      <td>9759247631578947</td>\n",
       "      <td>in</td>\n",
       "      <td>166.108.111.41</td>\n",
       "      <td>ezydp6vg4kwxi0m</td>\n",
       "      <td>ca482605ca991c5febd0c4a9fd28b6814l275</td>\n",
       "      <td>c1798623ef4c119237f11b9e6622883bsa47l</td>\n",
       "      <td>0.0</td>\n",
       "      <td>1487</td>\n",
       "    </tr>\n",
       "  </tbody>\n",
       "</table>\n",
       "</div>"
      ],
      "text/plain": [
       "   bid_id auction merchandise   device              time country  \\\n",
       "0      44   958x1      mobile  phone42  9759243368421052      in   \n",
       "1     276   38v0a      mobile  phone38  9759244631578947      in   \n",
       "2     470   sz8v4      mobile  phone47  9759245684210526      in   \n",
       "3     693   19fz7      mobile   phone3  9759246947368421      in   \n",
       "4     804   19fz7      mobile   phone3  9759247631578947      in   \n",
       "\n",
       "               ip              url                        payment_account  \\\n",
       "0  254.254.37.252  onbgo5s1m97rxur  ca482605ca991c5febd0c4a9fd28b6814l275   \n",
       "1   232.98.19.153  dy77rf6vkosrlhn  ca482605ca991c5febd0c4a9fd28b6814l275   \n",
       "2     210.30.25.7  9ty3boywvns4a3p  ca482605ca991c5febd0c4a9fd28b6814l275   \n",
       "3  166.108.111.41  ezydp6vg4kwxi0m  ca482605ca991c5febd0c4a9fd28b6814l275   \n",
       "4  166.108.111.41  ezydp6vg4kwxi0m  ca482605ca991c5febd0c4a9fd28b6814l275   \n",
       "\n",
       "                                 address  outcome  encoded_bidder_id  \n",
       "0  c1798623ef4c119237f11b9e6622883bsa47l      0.0               1487  \n",
       "1  c1798623ef4c119237f11b9e6622883bsa47l      0.0               1487  \n",
       "2  c1798623ef4c119237f11b9e6622883bsa47l      0.0               1487  \n",
       "3  c1798623ef4c119237f11b9e6622883bsa47l      0.0               1487  \n",
       "4  c1798623ef4c119237f11b9e6622883bsa47l      0.0               1487  "
      ]
     },
     "execution_count": 89,
     "metadata": {},
     "output_type": "execute_result"
    }
   ],
   "source": [
    "df_test.head(5)"
   ]
  },
  {
   "cell_type": "markdown",
   "metadata": {},
   "source": [
    "### Extract auction_count and device_count\n"
   ]
  },
  {
   "cell_type": "code",
   "execution_count": 90,
   "metadata": {},
   "outputs": [],
   "source": [
    "def count_for_bidder(bidder_id, feature, df):\n",
    "\treturn df[df['encoded_bidder_id'] == bidder_id][feature].nunique()\n",
    "\n",
    "bidders_train = pd.DataFrame(df_train['encoded_bidder_id'].unique(), columns=['encoded_bidder_id'])\n",
    "# Estrae i valori univoci dalla colonna encoded_bidder_id in df_train.\n",
    "# Li converte in un nuovo DataFrame chiamato bidders_train, che ha una singola colonna encoded_bidder_id.\n",
    "\n",
    "bidders_test = pd.DataFrame(df_test['encoded_bidder_id'].unique(), columns=['encoded_bidder_id'])\n",
    "\n",
    "features = ['auction', 'device', 'bid_id', 'ip', 'url']\n",
    "\n",
    "for feature in features:\n",
    "\tbidders_train[feature + '_count'] = bidders_train['encoded_bidder_id'].apply(lambda bidder: count_for_bidder(bidder, feature, df_train))\n",
    "\tbidders_test[feature + '_count'] = bidders_test['encoded_bidder_id'].apply(lambda bidder: count_for_bidder(bidder, feature, df_test))"
   ]
  },
  {
   "cell_type": "markdown",
   "metadata": {},
   "source": [
    "### Bidders_trains:\n",
    "un nuovo dataframe con chiave \"encoded_bidder_id\", per cui ha solo 1487 samples"
   ]
  },
  {
   "cell_type": "code",
   "execution_count": 92,
   "metadata": {},
   "outputs": [
    {
     "data": {
      "text/plain": [
       "(1487, 6)"
      ]
     },
     "execution_count": 92,
     "metadata": {},
     "output_type": "execute_result"
    }
   ],
   "source": [
    "bidders_train.shape"
   ]
  },
  {
   "cell_type": "code",
   "execution_count": 91,
   "metadata": {},
   "outputs": [
    {
     "data": {
      "text/plain": [
       "(497, 6)"
      ]
     },
     "execution_count": 91,
     "metadata": {},
     "output_type": "execute_result"
    }
   ],
   "source": [
    "bidders_test.shape"
   ]
  },
  {
   "cell_type": "markdown",
   "metadata": {},
   "source": [
    "### Add bid_auction\n",
    "- float feature\n",
    "- total auction that a bidder partecipate"
   ]
  },
  {
   "cell_type": "code",
   "execution_count": 93,
   "metadata": {},
   "outputs": [
    {
     "name": "stdout",
     "output_type": "stream",
     "text": [
      "count    1487.000000\n",
      "mean        7.444743\n",
      "std        33.690792\n",
      "min         1.000000\n",
      "25%         1.000000\n",
      "50%         1.714286\n",
      "75%         4.236352\n",
      "max      1023.500000\n",
      "Name: bid_auction, dtype: float64\n"
     ]
    },
    {
     "data": {
      "text/html": [
       "<div>\n",
       "<style scoped>\n",
       "    .dataframe tbody tr th:only-of-type {\n",
       "        vertical-align: middle;\n",
       "    }\n",
       "\n",
       "    .dataframe tbody tr th {\n",
       "        vertical-align: top;\n",
       "    }\n",
       "\n",
       "    .dataframe thead th {\n",
       "        text-align: right;\n",
       "    }\n",
       "</style>\n",
       "<table border=\"1\" class=\"dataframe\">\n",
       "  <thead>\n",
       "    <tr style=\"text-align: right;\">\n",
       "      <th></th>\n",
       "      <th>encoded_bidder_id</th>\n",
       "      <th>auction_count</th>\n",
       "      <th>device_count</th>\n",
       "      <th>bid_id_count</th>\n",
       "      <th>ip_count</th>\n",
       "      <th>url_count</th>\n",
       "      <th>bid_auction</th>\n",
       "    </tr>\n",
       "  </thead>\n",
       "  <tbody>\n",
       "    <tr>\n",
       "      <th>0</th>\n",
       "      <td>1487</td>\n",
       "      <td>252</td>\n",
       "      <td>348</td>\n",
       "      <td>3379</td>\n",
       "      <td>2520</td>\n",
       "      <td>1506</td>\n",
       "      <td>13.408730</td>\n",
       "    </tr>\n",
       "    <tr>\n",
       "      <th>1</th>\n",
       "      <td>1488</td>\n",
       "      <td>103</td>\n",
       "      <td>166</td>\n",
       "      <td>1165</td>\n",
       "      <td>414</td>\n",
       "      <td>845</td>\n",
       "      <td>11.310680</td>\n",
       "    </tr>\n",
       "    <tr>\n",
       "      <th>2</th>\n",
       "      <td>1489</td>\n",
       "      <td>16</td>\n",
       "      <td>36</td>\n",
       "      <td>63</td>\n",
       "      <td>50</td>\n",
       "      <td>35</td>\n",
       "      <td>3.937500</td>\n",
       "    </tr>\n",
       "    <tr>\n",
       "      <th>3</th>\n",
       "      <td>1490</td>\n",
       "      <td>33</td>\n",
       "      <td>4</td>\n",
       "      <td>294</td>\n",
       "      <td>280</td>\n",
       "      <td>3</td>\n",
       "      <td>8.909091</td>\n",
       "    </tr>\n",
       "    <tr>\n",
       "      <th>4</th>\n",
       "      <td>1491</td>\n",
       "      <td>10</td>\n",
       "      <td>9</td>\n",
       "      <td>22</td>\n",
       "      <td>17</td>\n",
       "      <td>4</td>\n",
       "      <td>2.200000</td>\n",
       "    </tr>\n",
       "  </tbody>\n",
       "</table>\n",
       "</div>"
      ],
      "text/plain": [
       "   encoded_bidder_id  auction_count  device_count  bid_id_count  ip_count  \\\n",
       "0               1487            252           348          3379      2520   \n",
       "1               1488            103           166          1165       414   \n",
       "2               1489             16            36            63        50   \n",
       "3               1490             33             4           294       280   \n",
       "4               1491             10             9            22        17   \n",
       "\n",
       "   url_count  bid_auction  \n",
       "0       1506    13.408730  \n",
       "1        845    11.310680  \n",
       "2         35     3.937500  \n",
       "3          3     8.909091  \n",
       "4          4     2.200000  "
      ]
     },
     "execution_count": 93,
     "metadata": {},
     "output_type": "execute_result"
    }
   ],
   "source": [
    "bidders_train['bid_auction'] = bidders_train['bid_id_count']/bidders_train['auction_count']\n",
    "bidders_test['bid_auction'] = bidders_test['bid_id_count']/bidders_test['auction_count']\n",
    "print(bidders_train[\"bid_auction\"].describe())\n",
    "bidders_test.head(5)"
   ]
  },
  {
   "cell_type": "markdown",
   "metadata": {},
   "source": [
    "### Training and test with new features"
   ]
  },
  {
   "cell_type": "markdown",
   "metadata": {},
   "source": [
    "### First:\n",
    "- create a new dataframe to maintain the originale and its features untouched\n",
    "- merge the new founded features in the df_train and df_test\n",
    "- drop the old features\n",
    "- encode 'merchandise'"
   ]
  },
  {
   "cell_type": "code",
   "execution_count": 94,
   "metadata": {},
   "outputs": [
    {
     "data": {
      "text/html": [
       "<div>\n",
       "<style scoped>\n",
       "    .dataframe tbody tr th:only-of-type {\n",
       "        vertical-align: middle;\n",
       "    }\n",
       "\n",
       "    .dataframe tbody tr th {\n",
       "        vertical-align: top;\n",
       "    }\n",
       "\n",
       "    .dataframe thead th {\n",
       "        text-align: right;\n",
       "    }\n",
       "</style>\n",
       "<table border=\"1\" class=\"dataframe\">\n",
       "  <thead>\n",
       "    <tr style=\"text-align: right;\">\n",
       "      <th></th>\n",
       "      <th>auction_count</th>\n",
       "      <th>device_count</th>\n",
       "      <th>bid_id_count</th>\n",
       "      <th>ip_count</th>\n",
       "      <th>url_count</th>\n",
       "      <th>bid_auction</th>\n",
       "      <th>merchandise</th>\n",
       "      <th>outcome</th>\n",
       "    </tr>\n",
       "  </thead>\n",
       "  <tbody>\n",
       "    <tr>\n",
       "      <th>0</th>\n",
       "      <td>594</td>\n",
       "      <td>1029</td>\n",
       "      <td>19988</td>\n",
       "      <td>10316</td>\n",
       "      <td>4527</td>\n",
       "      <td>33.649832</td>\n",
       "      <td>4</td>\n",
       "      <td>0</td>\n",
       "    </tr>\n",
       "    <tr>\n",
       "      <th>1</th>\n",
       "      <td>594</td>\n",
       "      <td>1029</td>\n",
       "      <td>19988</td>\n",
       "      <td>10316</td>\n",
       "      <td>4527</td>\n",
       "      <td>33.649832</td>\n",
       "      <td>4</td>\n",
       "      <td>0</td>\n",
       "    </tr>\n",
       "    <tr>\n",
       "      <th>2</th>\n",
       "      <td>594</td>\n",
       "      <td>1029</td>\n",
       "      <td>19988</td>\n",
       "      <td>10316</td>\n",
       "      <td>4527</td>\n",
       "      <td>33.649832</td>\n",
       "      <td>4</td>\n",
       "      <td>0</td>\n",
       "    </tr>\n",
       "    <tr>\n",
       "      <th>3</th>\n",
       "      <td>594</td>\n",
       "      <td>1029</td>\n",
       "      <td>19988</td>\n",
       "      <td>10316</td>\n",
       "      <td>4527</td>\n",
       "      <td>33.649832</td>\n",
       "      <td>4</td>\n",
       "      <td>0</td>\n",
       "    </tr>\n",
       "    <tr>\n",
       "      <th>4</th>\n",
       "      <td>594</td>\n",
       "      <td>1029</td>\n",
       "      <td>19988</td>\n",
       "      <td>10316</td>\n",
       "      <td>4527</td>\n",
       "      <td>33.649832</td>\n",
       "      <td>4</td>\n",
       "      <td>0</td>\n",
       "    </tr>\n",
       "  </tbody>\n",
       "</table>\n",
       "</div>"
      ],
      "text/plain": [
       "   auction_count  device_count  bid_id_count  ip_count  url_count  \\\n",
       "0            594          1029         19988     10316       4527   \n",
       "1            594          1029         19988     10316       4527   \n",
       "2            594          1029         19988     10316       4527   \n",
       "3            594          1029         19988     10316       4527   \n",
       "4            594          1029         19988     10316       4527   \n",
       "\n",
       "   bid_auction  merchandise  outcome  \n",
       "0    33.649832            4        0  \n",
       "1    33.649832            4        0  \n",
       "2    33.649832            4        0  \n",
       "3    33.649832            4        0  \n",
       "4    33.649832            4        0  "
      ]
     },
     "execution_count": 94,
     "metadata": {},
     "output_type": "execute_result"
    }
   ],
   "source": [
    "# Join between bidders_train and df_train\n",
    "df_train_with_new_features = pd.merge(bidders_train, df_train, on='encoded_bidder_id', how='inner')\n",
    "df_train_with_new_features.drop([\"encoded_bidder_id\", \"bid_id\",\"auction\", \"device\", \"address\", \"payment_account\", \"time\", \"country\", \"ip\", \"url\"], axis=1, inplace=True)\n",
    "\n",
    "df_test_with_new_features = pd.merge(bidders_test, df_test, on='encoded_bidder_id', how='inner')\n",
    "df_test_with_new_features.drop([\"encoded_bidder_id\", \"bid_id\",\"auction\", \"device\", \"address\", \"payment_account\", \"time\", \"country\", \"ip\", \"url\"], axis=1, inplace=True)\n",
    "\n",
    "# Encoding 'merchandise'\n",
    "from sklearn.preprocessing import LabelEncoder\n",
    "encoder = LabelEncoder()\n",
    "df_train_with_new_features[\"merchandise\"] = encoder.fit_transform(df_train_with_new_features['merchandise'])\n",
    "df_test_with_new_features[\"merchandise\"] = encoder.fit_transform(df_test_with_new_features['merchandise'])\n",
    "\n",
    "# Convert 'outcome' in type int\n",
    "df_train_with_new_features['outcome'] = df_train_with_new_features['outcome'].astype(int)\n",
    "df_test_with_new_features['outcome'] = df_test_with_new_features['outcome'].astype(int)\n",
    "df_train_with_new_features.head(5)\n"
   ]
  },
  {
   "cell_type": "markdown",
   "metadata": {},
   "source": [
    "### Then:\n",
    "- train a Decision Tree model and see what happens"
   ]
  },
  {
   "cell_type": "code",
   "execution_count": 95,
   "metadata": {},
   "outputs": [
    {
     "name": "stdout",
     "output_type": "stream",
     "text": [
      "Classification Report:\n",
      "               precision    recall  f1-score   support\n",
      "\n",
      "           0       0.90      0.53      0.67    665084\n",
      "           1       0.03      0.21      0.06     49465\n",
      "\n",
      "    accuracy                           0.51    714549\n",
      "   macro avg       0.47      0.37      0.36    714549\n",
      "weighted avg       0.84      0.51      0.62    714549\n",
      "\n"
     ]
    },
    {
     "data": {
      "image/png": "[encoded data removed]",
      "text/plain": [
       "<Figure size 640x480 with 2 Axes>"
      ]
     },
     "metadata": {},
     "output_type": "display_data"
    }
   ],
   "source": [
    "from sklearn.tree import DecisionTreeClassifier\n",
    "from sklearn.metrics import classification_report\n",
    "\n",
    "X_train_new_features = df_train_with_new_features.drop(['outcome'],axis=1)\n",
    "y_train_new_features = df_train_with_new_features['outcome']\n",
    "X_test_new_features = df_test_with_new_features.drop(['outcome'],axis=1)\n",
    "y_test_new_features = df_test_with_new_features['outcome']\n",
    "# print(X_with_new_features.head(5))\n",
    "# print(y_with_new_features.head(5))\n",
    "# X_train_new_features, X_test_new_features, y_train_new_features, y_test_new_features = train_test_split(X_with_new_features, y_with_new_features, test_size=0.3, random_state=42, stratify=y_with_new_features)\n",
    "\n",
    "dt_with_new_features_count = DecisionTreeClassifier()\n",
    "dt_with_new_features_count.fit(X_train_new_features, y_train_new_features)\n",
    "y_pred_with_new_features_count = dt_with_new_features_count.predict(X_test_new_features)\n",
    "\n",
    "print(\"Classification Report:\\n\", classification_report(y_test_new_features, y_pred_with_new_features_count))\n",
    "\n",
    "from sklearn.metrics import ConfusionMatrixDisplay\n",
    "cm_dt_with_new_features = ConfusionMatrixDisplay.from_estimator(dt_with_new_features_count, X_test_new_features, y_test_new_features)"
   ]
  },
  {
   "cell_type": "code",
   "execution_count": 97,
   "metadata": {},
   "outputs": [
    {
     "data": {
      "image/png": "[encoded data removed]",
      "text/plain": [
       "<Figure size 1000x600 with 1 Axes>"
      ]
     },
     "metadata": {},
     "output_type": "display_data"
    }
   ],
   "source": [
    "import matplotlib.pyplot as plt\n",
    "import numpy as np\n",
    "\n",
    "# Ottieni le importanze delle feature\n",
    "feature_importances = dt_with_new_features_count.feature_importances_\n",
    "\n",
    "# Ordina le feature per importanza decrescente\n",
    "sorted_idx = np.argsort(feature_importances)[::-1]\n",
    "sorted_features = X_train_new_features.columns[sorted_idx]\n",
    "sorted_importances = feature_importances[sorted_idx]\n",
    "\n",
    "# Plot\n",
    "plt.figure(figsize=(10, 6))\n",
    "plt.barh(sorted_features, sorted_importances, color=\"skyblue\")\n",
    "plt.xlabel(\"Feature Importance\")\n",
    "plt.ylabel(\"Features\")\n",
    "plt.title(\"Feature Importances in DecisionTreeClassifier\")\n",
    "plt.gca().invert_yaxis()  # Inverti l'asse Y per avere la feature più importante in alto\n",
    "plt.grid(axis='x')\n",
    "plt.show()\n",
    "\n"
   ]
  }
 ],
 "metadata": {
  "kernelspec": {
   "display_name": "Python 3",
   "language": "python",
   "name": "python3"
  },
  "language_info": {
   "codemirror_mode": {
    "name": "ipython",
    "version": 3
   },
   "file_extension": ".py",
   "mimetype": "text/x-python",
   "name": "python",
   "nbconvert_exporter": "python",
   "pygments_lexer": "ipython3",
   "version": "3.11.0"
  }
 },
 "nbformat": 4,
 "nbformat_minor": 2
}
