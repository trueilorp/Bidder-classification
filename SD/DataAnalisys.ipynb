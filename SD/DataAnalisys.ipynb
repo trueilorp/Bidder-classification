{
 "cells": [
  {
   "cell_type": "markdown",
   "id": "3d7ede07",
   "metadata": {},
   "source": [
    "## Bidder classification"
   ]
  },
  {
   "cell_type": "code",
   "execution_count": 5,
   "id": "7a507185",
   "metadata": {},
   "outputs": [],
   "source": [
    "import pandas as pd\n",
    "\n",
    "bids = pd.read_csv('Data/bids.csv')\n",
    "train = pd.read_csv('Data/train.csv')\n",
    "test = pd.read_csv('Data/test.csv')"
   ]
  },
  {
   "cell_type": "code",
   "execution_count": 6,
   "id": "30979f53",
   "metadata": {},
   "outputs": [
    {
     "name": "stdout",
     "output_type": "stream",
     "text": [
      "(7656334, 9)\n",
      "(2013, 4)\n",
      "(4700, 3)\n"
     ]
    }
   ],
   "source": [
    "print(bids.shape)\n",
    "print(train.shape)\n",
    "print(test.shape)"
   ]
  },
  {
   "cell_type": "code",
   "execution_count": 7,
   "id": "a7f6da99",
   "metadata": {},
   "outputs": [
    {
     "name": "stdout",
     "output_type": "stream",
     "text": [
      "Dataframe shape before merge: (7656334, 9)\n",
      "Dataframe keys before merge: Index(['bid_id', 'bidder_id', 'auction', 'merchandise', 'device', 'time',\n",
      "       'country', 'ip', 'url'],\n",
      "      dtype='object')\n",
      "\n",
      "Dataframe shape after merge: Index(['bid_id', 'bidder_id', 'auction', 'merchandise', 'device', 'time',\n",
      "       'country', 'ip', 'url', 'payment_account', 'address', 'outcome'],\n",
      "      dtype='object')\n",
      "Dataframe keys after merge: (3071224, 12)\n",
      "\n",
      "TOTAL NULL ELEMENTS: \n",
      "bid_id                0\n",
      "bidder_id             0\n",
      "auction               0\n",
      "merchandise           0\n",
      "device                0\n",
      "time                  0\n",
      "country            2701\n",
      "ip                    0\n",
      "url                   0\n",
      "payment_account       0\n",
      "address               0\n",
      "outcome               0\n",
      "dtype: int64\n",
      "\n",
      "HEAD OF DATASET:    bid_id                              bidder_id auction merchandise   device  \\\n",
      "0       1  668d393e858e8126275433046bbd35c6tywop   aeqok   furniture   phone1   \n",
      "1      25  668d393e858e8126275433046bbd35c6tywop   38v0a   furniture   phone4   \n",
      "2      39  668d393e858e8126275433046bbd35c6tywop   aeqok   furniture  phone35   \n",
      "3      42  668d393e858e8126275433046bbd35c6tywop   jkyzt   furniture  phone38   \n",
      "4      68  668d393e858e8126275433046bbd35c6tywop   h2xrf   furniture  phone57   \n",
      "\n",
      "               time country               ip              url  \\\n",
      "0  9759243157894736      in    50.201.125.84  jmqlhflrzwuay9c   \n",
      "1  9759243315789473      bd    147.64.206.30  vasstdc27m7nks3   \n",
      "2  9759243368421052      in     75.11.239.20  i92xwb95qdo901j   \n",
      "3  9759243368421052      in   215.203.78.242  s4hrzaqd5vbq2he   \n",
      "4  9759243526315789      in  134.198.237.242  1euklxshlldto4z   \n",
      "\n",
      "                         payment_account  \\\n",
      "0  a3d2de7675556553a5f08e4c88d2c228ucoac   \n",
      "1  a3d2de7675556553a5f08e4c88d2c228ucoac   \n",
      "2  a3d2de7675556553a5f08e4c88d2c228ucoac   \n",
      "3  a3d2de7675556553a5f08e4c88d2c228ucoac   \n",
      "4  a3d2de7675556553a5f08e4c88d2c228ucoac   \n",
      "\n",
      "                                 address  outcome  \n",
      "0  42a3b61a1fe69d66ad60f3e347aa09b1erfe2      0.0  \n",
      "1  42a3b61a1fe69d66ad60f3e347aa09b1erfe2      0.0  \n",
      "2  42a3b61a1fe69d66ad60f3e347aa09b1erfe2      0.0  \n",
      "3  42a3b61a1fe69d66ad60f3e347aa09b1erfe2      0.0  \n",
      "4  42a3b61a1fe69d66ad60f3e347aa09b1erfe2      0.0  \n"
     ]
    }
   ],
   "source": [
    "print(\"Dataframe shape before merge: \" + str(bids.shape))\n",
    "print(\"Dataframe keys before merge: \" + str(bids.keys()))\n",
    "result = pd.merge(bids, train, on='bidder_id', how='inner')  # Use 'inner' to avoid nans values, because 'inner' return only samples that are in both of dataframes.\n",
    "print(\"\\nDataframe shape after merge: \" + str(result.keys()))\n",
    "print(\"Dataframe keys after merge: \" + str(result.shape))\n",
    "print(\"\\nTOTAL NULL ELEMENTS: \\n\" + str(result.isnull().sum()))\n",
    "print(\"\\nHEAD OF DATASET: \" + str(result.head(5)))"
   ]
  },
  {
   "cell_type": "markdown",
   "id": "54c90d63",
   "metadata": {},
   "source": [
    "# Dataset Description\n",
    "\n",
    "## Fields\n",
    "\n",
    "1. **bid_id**  \n",
    "   - **Description**: Unique ID for this bid.  \n",
    "   - **Type**: String/Integer.  \n",
    "\n",
    "2. **bidder_id**  \n",
    "   - **Description**: Unique identifier of a bidder (same as the `bidder_id` used in `train.csv` and `test.csv`).  \n",
    "   - **Type**: String/Integer.  \n",
    "\n",
    "3. **auction**  \n",
    "   - **Description**: Unique identifier of an auction (asta).  \n",
    "   - **Type**: String.  \n",
    "\n",
    "4. **merchandise** ( **DROP** )  \n",
    "   - **Description**: The category of the auction site campaign. This indicates that the bidder might come to the site via a search term (e.g., \"home goods\") but ends up bidding on something like \"sporting goods\".  \n",
    "   - **Type**: Categorical.  \n",
    "   - **Note**: Dropped from analysis.\n",
    "\n",
    "5. **device** ( **DROP** )  \n",
    "   - **Description**: Phone model of a visitor.  \n",
    "   - **Type**: String.  \n",
    "   - **Note**: Dropped from analysis.\n",
    "\n",
    "6. **time**  \n",
    "   - **Description**: The time the bid is made (transformed for privacy).  \n",
    "   - **Type**: Timestamp.  \n",
    "   - **Action**: **Categorization**.\n",
    "\n",
    "7. **country**  \n",
    "   - **Description**: The country associated with the bidder's IP address.  \n",
    "   - **Type**: Categorical.\n",
    "\n",
    "8. **ip** ( **DROP** )  \n",
    "   - **Description**: IP address of a bidder (obfuscated for privacy).  \n",
    "   - **Type**: String.  \n",
    "   - **Note**: Dropped from analysis.\n",
    "\n",
    "9. **url**  \n",
    "   - **Description**: The URL where the bidder was referred from (obfuscated for privacy).  \n",
    "   - **Type**: String.\n",
    "\n",
    "10. **payment_account**  \n",
    "    - **Description**: Payment account associated with the bidder (obfuscated for privacy).  \n",
    "    - **Type**: String.\n",
    "\n",
    "11. **address**  \n",
    "    - **Description**: Mailing address of the bidder (obfuscated for privacy).  \n",
    "    - **Type**: String.\n",
    "\n",
    "12. **outcome**  \n",
    "    - **Description**: Label indicating whether the bidder is a robot (1.0) or human (0.0).  \n",
    "    - **Type**: Binary.\n"
   ]
  },
  {
   "cell_type": "markdown",
   "id": "1a39864f",
   "metadata": {},
   "source": [
    "## Feature Extraction\n",
    "\n",
    "1. bidder_god: boolean (0/1) --> \n",
    "2. immediate_bid: boolean (0/1) per bid / count per bidder --> \n",
    "3. number_of_payment_methods: int --> \n",
    "4. bidder_activity: int --> \n",
    "5. number_of_device: int --> \n",
    "6. number_of_country ?  \n"
   ]
  },
  {
   "cell_type": "markdown",
   "id": "e6374d7f",
   "metadata": {},
   "source": [
    "## IP RESPONSE"
   ]
  },
  {
   "cell_type": "code",
   "execution_count": 8,
   "id": "aef4d7d7",
   "metadata": {},
   "outputs": [
    {
     "name": "stdout",
     "output_type": "stream",
     "text": [
      "Nazione: United States\n"
     ]
    }
   ],
   "source": [
    "import requests\n",
    "\n",
    "# for i in range(len())\n",
    "ip = \"32.44.186.109\"  # Esempio di IP\n",
    "response = requests.get(f'http://ip-api.com/json/{ip}')\n",
    "data = response.json()\n",
    "print(f\"Nazione: {data['country']}\")"
   ]
  },
  {
   "cell_type": "markdown",
   "id": "0479d690",
   "metadata": {},
   "source": [
    "## FIRST TRY"
   ]
  },
  {
   "cell_type": "code",
   "execution_count": 9,
   "id": "bbb05c35",
   "metadata": {},
   "outputs": [
    {
     "name": "stdout",
     "output_type": "stream",
     "text": [
      "Index(['bid_id', 'bidder_id', 'auction', 'merchandise', 'device', 'time',\n",
      "       'country', 'ip', 'url', 'payment_account', 'address', 'outcome'],\n",
      "      dtype='object')\n",
      "1030950\n",
      "742669\n",
      "663873\n",
      "12740\n",
      "5729\n",
      "1984\n",
      "1984\n",
      "198\n",
      "10\n"
     ]
    }
   ],
   "source": [
    "print(result.keys())\n",
    "result.head(5)\n",
    "print(result[\"ip\"].nunique()) # 1.030.950\n",
    "print(result[\"time\"].nunique()) # 742.669 \n",
    "print(result[\"url\"].nunique()) # 663.873\n",
    "print(result[\"auction\"].nunique()) # 12.740\n",
    "print(result[\"device\"].nunique()) # 5.729\n",
    "print(result[\"payment_account\"].nunique()) # 1.984\n",
    "print(result[\"address\"].nunique()) # 1.984\n",
    "print(result[\"country\"].nunique()) # 198\n",
    "print(result[\"merchandise\"].nunique()) # 10\n",
    "\n",
    "# Drop bid_id, time, url, ip\n",
    "result.drop([\"bid_id\", \"ip\", \"url\", \"time\"], axis=1, inplace=True)"
   ]
  },
  {
   "cell_type": "code",
   "execution_count": 10,
   "id": "2b55fa04",
   "metadata": {},
   "outputs": [
    {
     "name": "stdout",
     "output_type": "stream",
     "text": [
      "Mode of the feature 'Country': in\n"
     ]
    },
    {
     "data": {
      "text/html": [
       "<div>\n",
       "<style scoped>\n",
       "    .dataframe tbody tr th:only-of-type {\n",
       "        vertical-align: middle;\n",
       "    }\n",
       "\n",
       "    .dataframe tbody tr th {\n",
       "        vertical-align: top;\n",
       "    }\n",
       "\n",
       "    .dataframe thead th {\n",
       "        text-align: right;\n",
       "    }\n",
       "</style>\n",
       "<table border=\"1\" class=\"dataframe\">\n",
       "  <thead>\n",
       "    <tr style=\"text-align: right;\">\n",
       "      <th></th>\n",
       "      <th>bidder_id</th>\n",
       "      <th>auction</th>\n",
       "      <th>merchandise</th>\n",
       "      <th>device</th>\n",
       "      <th>country</th>\n",
       "      <th>payment_account</th>\n",
       "      <th>address</th>\n",
       "      <th>outcome</th>\n",
       "    </tr>\n",
       "  </thead>\n",
       "  <tbody>\n",
       "    <tr>\n",
       "      <th>0</th>\n",
       "      <td>797</td>\n",
       "      <td>3645</td>\n",
       "      <td>4</td>\n",
       "      <td>1</td>\n",
       "      <td>84</td>\n",
       "      <td>1497</td>\n",
       "      <td>438</td>\n",
       "      <td>0</td>\n",
       "    </tr>\n",
       "    <tr>\n",
       "      <th>1</th>\n",
       "      <td>797</td>\n",
       "      <td>1092</td>\n",
       "      <td>4</td>\n",
       "      <td>3090</td>\n",
       "      <td>15</td>\n",
       "      <td>1497</td>\n",
       "      <td>438</td>\n",
       "      <td>0</td>\n",
       "    </tr>\n",
       "    <tr>\n",
       "      <th>2</th>\n",
       "      <td>797</td>\n",
       "      <td>3645</td>\n",
       "      <td>4</td>\n",
       "      <td>2627</td>\n",
       "      <td>84</td>\n",
       "      <td>1497</td>\n",
       "      <td>438</td>\n",
       "      <td>0</td>\n",
       "    </tr>\n",
       "    <tr>\n",
       "      <th>3</th>\n",
       "      <td>797</td>\n",
       "      <td>6953</td>\n",
       "      <td>4</td>\n",
       "      <td>2908</td>\n",
       "      <td>84</td>\n",
       "      <td>1497</td>\n",
       "      <td>438</td>\n",
       "      <td>0</td>\n",
       "    </tr>\n",
       "    <tr>\n",
       "      <th>4</th>\n",
       "      <td>797</td>\n",
       "      <td>6099</td>\n",
       "      <td>4</td>\n",
       "      <td>4459</td>\n",
       "      <td>84</td>\n",
       "      <td>1497</td>\n",
       "      <td>438</td>\n",
       "      <td>0</td>\n",
       "    </tr>\n",
       "  </tbody>\n",
       "</table>\n",
       "</div>"
      ],
      "text/plain": [
       "   bidder_id  auction  merchandise  device  country  payment_account  address  \\\n",
       "0        797     3645            4       1       84             1497      438   \n",
       "1        797     1092            4    3090       15             1497      438   \n",
       "2        797     3645            4    2627       84             1497      438   \n",
       "3        797     6953            4    2908       84             1497      438   \n",
       "4        797     6099            4    4459       84             1497      438   \n",
       "\n",
       "   outcome  \n",
       "0        0  \n",
       "1        0  \n",
       "2        0  \n",
       "3        0  \n",
       "4        0  "
      ]
     },
     "execution_count": 10,
     "metadata": {},
     "output_type": "execute_result"
    }
   ],
   "source": [
    "# Encoding features\n",
    "\n",
    "# Fix none in country\n",
    "mode_country = result[\"country\"].mode()\n",
    "print(\"Mode of the feature 'Country': \" + str(mode_country.iloc[0]))\n",
    "for country in result[\"country\"]:\n",
    "\tif country == None:\n",
    "\t\tcountry = mode_country.iloc[0]\n",
    "\n",
    "# Label Encoding for merchandise, country, \n",
    "from sklearn.preprocessing import LabelEncoder\n",
    "encoder = LabelEncoder()\n",
    "result[\"merchandise\"] = encoder.fit_transform(result['merchandise'])\n",
    "result[\"country\"] = encoder.fit_transform(result['country'])\n",
    "result[\"payment_account\"] = encoder.fit_transform(result['payment_account'])\n",
    "result[\"address\"] = encoder.fit_transform(result['address'])\n",
    "result[\"device\"] = encoder.fit_transform(result['device'])\n",
    "result[\"auction\"] = encoder.fit_transform(result['auction'])\n",
    "result[\"bidder_id\"] = encoder.fit_transform(result['bidder_id'])\n",
    "result['outcome'] = result['outcome'].astype(int)\n",
    "\n",
    "# Drop columns that have been encoded \n",
    "# result.drop([\"merchandise\", \"country\", \"payment_account\", \"address\", \"device\", \"auction\"], axis=1, inplace=True)\n",
    "result.head(5)"
   ]
  },
  {
   "cell_type": "code",
   "execution_count": 11,
   "id": "ea1759ef",
   "metadata": {},
   "outputs": [
    {
     "name": "stdout",
     "output_type": "stream",
     "text": [
      "Total value of train labelsoutcome\n",
      "0          1861165\n",
      "1           288691\n",
      "Name: count, dtype: int64\n",
      "\n",
      "Total value of test labelsoutcome\n",
      "0          797643\n",
      "1          123725\n",
      "Name: count, dtype: int64\n"
     ]
    }
   ],
   "source": [
    "X = result.iloc[:, result.columns != \"outcome\"]\n",
    "y = result.iloc[:, result.columns == \"outcome\"]\n",
    "\n",
    "from sklearn.model_selection import train_test_split\n",
    "X_train, X_test, y_train, y_test = train_test_split(X, y, test_size=0.3, random_state=42, stratify=y)\n",
    "print(\"Total value of train labels\" + str(y_train.value_counts()))\n",
    "print(\"\\nTotal value of test labels\" + str(y_test.value_counts()))"
   ]
  },
  {
   "cell_type": "code",
   "execution_count": 12,
   "id": "42b49f5b",
   "metadata": {},
   "outputs": [
    {
     "data": {
      "text/html": [
       "<div>\n",
       "<style scoped>\n",
       "    .dataframe tbody tr th:only-of-type {\n",
       "        vertical-align: middle;\n",
       "    }\n",
       "\n",
       "    .dataframe tbody tr th {\n",
       "        vertical-align: top;\n",
       "    }\n",
       "\n",
       "    .dataframe thead th {\n",
       "        text-align: right;\n",
       "    }\n",
       "</style>\n",
       "<table border=\"1\" class=\"dataframe\">\n",
       "  <thead>\n",
       "    <tr style=\"text-align: right;\">\n",
       "      <th></th>\n",
       "      <th>auction</th>\n",
       "      <th>merchandise</th>\n",
       "      <th>device</th>\n",
       "      <th>country</th>\n",
       "      <th>outcome</th>\n",
       "    </tr>\n",
       "  </thead>\n",
       "  <tbody>\n",
       "    <tr>\n",
       "      <th>0</th>\n",
       "      <td>3645</td>\n",
       "      <td>4</td>\n",
       "      <td>1</td>\n",
       "      <td>84</td>\n",
       "      <td>0</td>\n",
       "    </tr>\n",
       "    <tr>\n",
       "      <th>1</th>\n",
       "      <td>1092</td>\n",
       "      <td>4</td>\n",
       "      <td>3090</td>\n",
       "      <td>15</td>\n",
       "      <td>0</td>\n",
       "    </tr>\n",
       "    <tr>\n",
       "      <th>2</th>\n",
       "      <td>3645</td>\n",
       "      <td>4</td>\n",
       "      <td>2627</td>\n",
       "      <td>84</td>\n",
       "      <td>0</td>\n",
       "    </tr>\n",
       "    <tr>\n",
       "      <th>3</th>\n",
       "      <td>6953</td>\n",
       "      <td>4</td>\n",
       "      <td>2908</td>\n",
       "      <td>84</td>\n",
       "      <td>0</td>\n",
       "    </tr>\n",
       "    <tr>\n",
       "      <th>4</th>\n",
       "      <td>6099</td>\n",
       "      <td>4</td>\n",
       "      <td>4459</td>\n",
       "      <td>84</td>\n",
       "      <td>0</td>\n",
       "    </tr>\n",
       "  </tbody>\n",
       "</table>\n",
       "</div>"
      ],
      "text/plain": [
       "   auction  merchandise  device  country  outcome\n",
       "0     3645            4       1       84        0\n",
       "1     1092            4    3090       15        0\n",
       "2     3645            4    2627       84        0\n",
       "3     6953            4    2908       84        0\n",
       "4     6099            4    4459       84        0"
      ]
     },
     "execution_count": 12,
     "metadata": {},
     "output_type": "execute_result"
    }
   ],
   "source": [
    "result.drop([\"bidder_id\", \"address\", \"payment_account\"], axis=1, inplace=True)\n",
    "result.head(5)"
   ]
  },
  {
   "cell_type": "code",
   "execution_count": 13,
   "id": "ec310a44",
   "metadata": {},
   "outputs": [
    {
     "name": "stdout",
     "output_type": "stream",
     "text": [
      "Classification Report:\n",
      "               precision    recall  f1-score   support\n",
      "\n",
      "           0       0.97      0.98      0.98    531762\n",
      "           1       0.87      0.80      0.83     82483\n",
      "\n",
      "    accuracy                           0.96    614245\n",
      "   macro avg       0.92      0.89      0.90    614245\n",
      "weighted avg       0.96      0.96      0.96    614245\n",
      "\n"
     ]
    },
    {
     "data": {
      "image/png": "[encoded data removed]",
      "text/plain": [
       "<Figure size 640x480 with 2 Axes>"
      ]
     },
     "metadata": {},
     "output_type": "display_data"
    }
   ],
   "source": [
    "from sklearn.tree import DecisionTreeClassifier\n",
    "from sklearn.metrics import classification_report\n",
    "\n",
    "X = result.iloc[:, result.columns != \"outcome\"]\n",
    "y = result.iloc[:, result.columns == \"outcome\"]\n",
    "\n",
    "from sklearn.model_selection import train_test_split\n",
    "X_train, X_test, y_train, y_test = train_test_split(X, y, test_size=0.2, random_state=42, stratify=y)\n",
    "\n",
    "dt = DecisionTreeClassifier()\n",
    "dt.fit(X_train, y_train)\n",
    "y_pred = dt.predict(X_test)\n",
    "\n",
    "print(\"Classification Report:\\n\", classification_report(y_test, y_pred))\n",
    "\n",
    "from sklearn.metrics import ConfusionMatrixDisplay\n",
    "cm_dt = ConfusionMatrixDisplay.from_estimator(dt, X_test, y_test)"
   ]
  },
  {
   "cell_type": "markdown",
   "id": "8c250c23",
   "metadata": {},
   "source": [
    "## Analysis Summary\n",
    "\n",
    "From the previous analysis, we understand that our model (in this case, a **Decision Tree**) learns too much from the training data and is not able to generalize, leading to **overfitting**.\n",
    "\n",
    "### Steps to Prevent Overfitting:\n",
    "1. **Reduce correlations between features**:\n",
    "   - Analyze the feature set to identify highly correlated features.\n",
    "   - Remove or transform correlated features to minimize redundancy.\n",
    "\n",
    "2. **Introduce new significant features (Feature Extraction)**:\n",
    "   - Engineer meaningful features from the existing dataset.\n",
    "   - Use domain knowledge or statistical techniques to create features that improve model performance.\n"
   ]
  }
 ],
 "metadata": {
  "kernelspec": {
   "display_name": "Python 3",
   "language": "python",
   "name": "python3"
  },
  "language_info": {
   "codemirror_mode": {
    "name": "ipython",
    "version": 3
   },
   "file_extension": ".py",
   "mimetype": "text/x-python",
   "name": "python",
   "nbconvert_exporter": "python",
   "pygments_lexer": "ipython3",
   "version": "3.11.0"
  }
 },
 "nbformat": 4,
 "nbformat_minor": 5
}
