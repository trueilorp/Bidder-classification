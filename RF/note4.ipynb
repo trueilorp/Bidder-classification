{
 "cells": [
  {
   "cell_type": "markdown",
   "metadata": {},
   "source": [
    "# Feature engineering part 2 (Dealing with time)"
   ]
  },
  {
   "cell_type": "code",
   "execution_count": 1,
   "metadata": {},
   "outputs": [],
   "source": [
    "import pandas as pd\n",
    "from fep import FEP, load_features\n",
    "from sklearn.model_selection import train_test_split\n",
    "from sklearn.preprocessing import LabelEncoder"
   ]
  },
  {
   "cell_type": "code",
   "execution_count": null,
   "metadata": {},
   "outputs": [],
   "source": [
    "# read data and split train and test\n",
    "bids = pd.read_csv('../Data/facebook/bids.csv')\n",
    "bidder = pd.read_csv('../Data/facebook/train.csv')\n",
    "X_bidder = bidder.drop(['outcome'],axis=1)\n",
    "y_bidder = bidder['outcome']\n",
    "X_train, X_test, y_train, y_test = train_test_split(X_bidder, y_bidder, random_state=42, stratify=y_bidder)\n",
    "df_train = pd.merge(bids, pd.concat([X_train, y_train], axis=1), on='bidder_id', how='inner')  \n",
    "df_test = pd.merge(bids, pd.concat([X_test, y_test], axis=1), on='bidder_id', how='inner') \n",
    "\n",
    "# Encoding\n",
    "\n",
    "unique_bidders = pd.concat([df_train['bidder_id'], df_test['bidder_id']]).unique()\n",
    "bidder_mapping = {bidder_id: idx for idx, bidder_id in enumerate(unique_bidders)}\n",
    "df_train['encoded_bidder_id'] = df_train['bidder_id'].map(bidder_mapping)\n",
    "df_test['encoded_bidder_id'] = df_test['bidder_id'].map(bidder_mapping)\n",
    "\n",
    "df_train.drop('bidder_id',axis=1,inplace=True)\n",
    "df_test.drop('bidder_id',axis=1,inplace=True)"
   ]
  },
  {
   "cell_type": "markdown",
   "metadata": {},
   "source": [
    "### Dealing with time\n",
    "\n",
    "The idea is to analyze time-based behavior to identify features that help us to understand if a bidder is a bot.\n",
    "\n",
    "The features can be categorized based on whether they describe a single bid or provide an aggregated view of a bidder's overall behavior.\n",
    "\n",
    "Some ideas:\n",
    "- Bid Timing Patterns: analyze timing between bids (e.g., intervals between bids).\n",
    "- Activity Speed: Bots tend to act faster than humans.\n",
    "- Round Duration: bots may place bids just before the auction ends\n",
    "- Time of Day: bots can operate 24/7, so looking at the time of day when bids occur could reveal out-of-place activity\n",
    "- Response to Other Bidder: If bids are placed immediately after another bidder, or if there's no sign of pause or delay in decision-making, this could be indicative of bot activity.\n",
    "- Concurrent bid: Bot can place bids in two different auctions faster than humans."
   ]
  }
 ],
 "metadata": {
  "kernelspec": {
   "display_name": "Python 3",
   "language": "python",
   "name": "python3"
  },
  "language_info": {
   "codemirror_mode": {
    "name": "ipython",
    "version": 3
   },
   "file_extension": ".py",
   "mimetype": "text/x-python",
   "name": "python",
   "nbconvert_exporter": "python",
   "pygments_lexer": "ipython3",
   "version": "3.9.2"
  }
 },
 "nbformat": 4,
 "nbformat_minor": 2
}
