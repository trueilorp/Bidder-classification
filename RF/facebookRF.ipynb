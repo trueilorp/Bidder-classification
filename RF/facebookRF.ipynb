{
 "cells": [
  {
   "cell_type": "markdown",
   "id": "eca8ab62",
   "metadata": {},
   "source": [
    "### Importing data"
   ]
  },
  {
   "cell_type": "code",
   "execution_count": 24,
   "id": "649015de",
   "metadata": {},
   "outputs": [],
   "source": [
    "import pandas as pd\n",
    "from sklearn.preprocessing import LabelEncoder\n",
    "from sklearn.model_selection import train_test_split\n",
    "from sklearn.tree import DecisionTreeClassifier\n",
    "from sklearn.metrics import classification_report"
   ]
  },
  {
   "cell_type": "code",
   "execution_count": 10,
   "id": "88332966",
   "metadata": {},
   "outputs": [],
   "source": [
    "# import dataset bid and bidder\n",
    "bids = pd.read_csv('Data/facebook/bids.csv')\n",
    "bidder = pd.read_csv('Data/facebook/train.csv')"
   ]
  },
  {
   "cell_type": "code",
   "execution_count": 11,
   "id": "8267e95a",
   "metadata": {},
   "outputs": [
    {
     "name": "stdout",
     "output_type": "stream",
     "text": [
      "Feature: bidder_id has 6614 unique values\n",
      "Feature: auction has 15051 unique values\n",
      "Feature: merchandise has 10 unique values\n",
      "Feature: device has 7351 unique values\n",
      "Feature: country has 200 unique values\n",
      "Feature: ip has 2303991 unique values\n",
      "Feature: url has 1786351 unique values\n"
     ]
    }
   ],
   "source": [
    "for feature in bids.columns:\n",
    "    if bids[feature].dtype == 'object':\n",
    "        print(f\"Feature: {feature} has {len(bids[feature].unique())} unique values\")"
   ]
  },
  {
   "cell_type": "code",
   "execution_count": 12,
   "id": "fd573890",
   "metadata": {},
   "outputs": [
    {
     "name": "stdout",
     "output_type": "stream",
     "text": [
      "Feature: bidder_id has 2013 unique values\n",
      "Feature: payment_account has 2013 unique values\n",
      "Feature: address has 2013 unique values\n"
     ]
    }
   ],
   "source": [
    "for feature in bidder.columns:\n",
    "    if bidder[feature].dtype == 'object':\n",
    "        print(f\"Feature: {feature} has {len(bidder[feature].unique())} unique values\")"
   ]
  },
  {
   "cell_type": "code",
   "execution_count": 13,
   "id": "4c6ef672",
   "metadata": {},
   "outputs": [],
   "source": [
    "def encoder(df, exclude=None):\n",
    "    df_encoded = df.copy()\n",
    "\n",
    "    for column in df_encoded.columns:\n",
    "        if df_encoded[column].dtype == 'object' and column not in exclude:  \n",
    "            le = LabelEncoder()\n",
    "            df_encoded[column] = le.fit_transform(df_encoded[column])\n",
    "\n",
    "    \n",
    "    \n",
    "\n",
    "    return df_encoded"
   ]
  },
  {
   "cell_type": "code",
   "execution_count": 14,
   "id": "f2cc0cc9",
   "metadata": {},
   "outputs": [],
   "source": [
    "bids_encoded = encoder(bids.drop(['ip', 'url'], axis = 1), ['bidder_id'])\n",
    "bids_encoded['country'].fillna(df['country'].mode()[0], inplace=True)"
   ]
  },
  {
   "cell_type": "code",
   "execution_count": 15,
   "id": "84637b60",
   "metadata": {},
   "outputs": [],
   "source": [
    "bidder_encoded = encoder(bidder, ['bidder_id'])"
   ]
  },
  {
   "cell_type": "code",
   "execution_count": 16,
   "id": "3e4b5fb4",
   "metadata": {},
   "outputs": [],
   "source": [
    "X_bidder = bidder_encoded.drop(['outcome'], axis=1)\n",
    "y_bidder = bidder_encoded['outcome']\n",
    "\n",
    "X_train, X_test, y_train, y_test = train_test_split(X_bidder, y_bidder, random_state=42, stratify=y_bidder)\n",
    "\n",
    "bidder_train_df = pd.concat([X_train, y_train], axis=1)\n",
    "bidder_test_df = pd.concat([X_test, y_test], axis=1)"
   ]
  },
  {
   "cell_type": "code",
   "execution_count": 17,
   "id": "6e84466a",
   "metadata": {},
   "outputs": [],
   "source": [
    "df_train = pd.merge(bids_encoded, bidder_train_df, on='bidder_id', how='inner')  # Use 'inner' to avoid nans values\n",
    "df_test = pd.merge(bids_encoded, bidder_test_df, on='bidder_id', how='inner')  # Use 'inner' to avoid nans values"
   ]
  },
  {
   "cell_type": "code",
   "execution_count": 18,
   "id": "0f8f9089",
   "metadata": {},
   "outputs": [],
   "source": [
    "df_train.drop(['bid_id'], axis= 1, inplace=True)\n",
    "df_test.drop(['bid_id'], axis= 1, inplace=True)"
   ]
  },
  {
   "cell_type": "code",
   "execution_count": 19,
   "id": "ebcc9cf1",
   "metadata": {},
   "outputs": [],
   "source": [
    "le = LabelEncoder()\n",
    "all_data = pd.concat([df_train['bidder_id'], df_test['bidder_id']])\n",
    "le.fit_transform(all_data)\n",
    "df_train['bidder_id'] = le.transform(df_train['bidder_id'])\n",
    "df_test['bidder_id'] = le.transform(df_test['bidder_id'])"
   ]
  },
  {
   "cell_type": "code",
   "execution_count": null,
   "id": "b6b974df",
   "metadata": {},
   "outputs": [
    {
     "name": "stdout",
     "output_type": "stream",
     "text": [
      "Classification Report:\n",
      "              precision    recall  f1-score   support\n",
      "\n",
      "         0.0       1.00      1.00      1.00    498431\n",
      "         1.0       1.00      1.00      1.00     90738\n",
      "\n",
      "    accuracy                           1.00    589169\n",
      "   macro avg       1.00      1.00      1.00    589169\n",
      "weighted avg       1.00      1.00      1.00    589169\n",
      "\n"
     ]
    }
   ],
   "source": [
    "X = df_train.drop(['outcome'], axis=1)\n",
    "y = df_train['outcome']\n",
    "\n",
    "X_train, X_test, y_train, y_test = train_test_split(X, y, test_size=0.25, random_state=42, stratify=y)\n",
    "\n",
    "rf = DecisionTreeClassifier()\n",
    "\n",
    "rf.fit(X_train, y_train)\n",
    "\n",
    "y_pred = rf.predict(X_test)\n",
    "\n",
    "print(\"Classification Report:\")\n",
    "print(classification_report(y_test, y_pred))"
   ]
  },
  {
   "cell_type": "markdown",
   "id": "f176ea6d",
   "metadata": {},
   "source": [
    "Probabilmente sta overfittando sui bidder che conosce come scam, proviamolo con il test set, mi aspetto un risultato molto basso"
   ]
  },
  {
   "cell_type": "code",
   "execution_count": 23,
   "id": "50ef59c7",
   "metadata": {},
   "outputs": [
    {
     "name": "stdout",
     "output_type": "stream",
     "text": [
      "Classification Report:\n",
      "              precision    recall  f1-score   support\n",
      "\n",
      "         0.0       0.93      0.95      0.94    665084\n",
      "         1.0       0.03      0.02      0.02     49465\n",
      "\n",
      "    accuracy                           0.89    714549\n",
      "   macro avg       0.48      0.49      0.48    714549\n",
      "weighted avg       0.87      0.89      0.88    714549\n",
      "\n"
     ]
    }
   ],
   "source": [
    "X = df_test.drop(['outcome'], axis=1)\n",
    "y = df_test['outcome']\n",
    "\n",
    "y_pred = rf.predict(X)\n",
    "print(\"Classification Report:\")\n",
    "print(classification_report(y, y_pred))"
   ]
  },
  {
   "cell_type": "markdown",
   "id": "1a3d8c57",
   "metadata": {},
   "source": [
    "Come ci si aspettava, non è stato in grado di riconoscere i bot. Questo perchè le feature presenti nei dataset non astraggono dal bidder. <br>\n",
    "L'obiettivo è quello di far imparare il modello a classificare correttamente bot e non bot usando delle feature che astraggano dal bbider"
   ]
  }
 ],
 "metadata": {
  "kernelspec": {
   "display_name": "Python 3",
   "language": "python",
   "name": "python3"
  },
  "language_info": {
   "codemirror_mode": {
    "name": "ipython",
    "version": 3
   },
   "file_extension": ".py",
   "mimetype": "text/x-python",
   "name": "python",
   "nbconvert_exporter": "python",
   "pygments_lexer": "ipython3",
   "version": "3.9.2"
  }
 },
 "nbformat": 4,
 "nbformat_minor": 5
}
