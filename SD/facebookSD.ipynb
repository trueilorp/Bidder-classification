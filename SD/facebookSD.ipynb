{
 "cells": [
  {
   "cell_type": "code",
   "execution_count": null,
   "id": "7a507185",
   "metadata": {},
   "outputs": [],
   "source": [
    "import pandas as pd\n",
    "\n",
    "bids = pd.read_csv('Data/bids.csv')\n",
    "train = pd.read_csv('Data/train.csv')\n",
    "test = pd.read_csv('Data/test.csv')"
   ]
  },
  {
   "cell_type": "code",
   "execution_count": 16,
   "id": "a7f6da99",
   "metadata": {},
   "outputs": [
    {
     "name": "stdout",
     "output_type": "stream",
     "text": [
      "(7656334, 9)\n",
      "Index(['bid_id', 'bidder_id', 'auction', 'merchandise', 'device', 'time',\n",
      "       'country', 'ip', 'url'],\n",
      "      dtype='object')\n",
      "Index(['bid_id', 'bidder_id', 'auction', 'merchandise', 'device', 'time',\n",
      "       'country', 'ip', 'url', 'payment_account', 'address', 'outcome'],\n",
      "      dtype='object')\n"
     ]
    },
    {
     "data": {
      "text/plain": [
       "(3071224, 12)"
      ]
     },
     "execution_count": 16,
     "metadata": {},
     "output_type": "execute_result"
    }
   ],
   "source": [
    "print(bids.shape)\n",
    "print(bids.keys())\n",
    "result = pd.merge(bids, train, on='bidder_id', how='inner')  # Use 'inner' to avoid nans values, because 'inner' return only samples that are in both of dataframes.\n",
    "print(result.keys())\n",
    "result.shape"
   ]
  },
  {
   "cell_type": "markdown",
   "id": "54c90d63",
   "metadata": {},
   "source": [
    "bid_id - unique id for this bid <br/>\n",
    "bidder_id – Unique identifier of a bidder (same as the bidder_id used in train.csv and test.csv) <br/>\n",
    "auction – Unique identifier of an auction (asta) <br/>\n",
    "merchandise –  The category of the auction site campaign, which means the bidder might come to this site by way of searching for \"home goods\" but ended up bidding for \"sporting goods\" - and that leads to this field being \"home goods\". This categorical field could be a search term, or online advertisement.  **DROP** <br/>\n",
    "device – Phone model of a visitor **DROP** <br/>\n",
    "time - Time that the bid is made (transformed to protect privacy). **categozation** <br/>\n",
    "country - The country that the IP belongs to <br/>\n",
    "ip – IP address of a bidder (obfuscated to protect privacy). **DROP** <br/>\n",
    "url - url where the bidder was referred from (obfuscated to protect privacy). <br/>\n",
    "payment_account – Payment account associated with a bidder. These are obfuscated to protect privacy. <br/>\n",
    "address – Mailing address of a bidder. These are obfuscated to protect privacy. <br/>\n",
    "outcome – Label of a bidder indicating whether or not it is a robot. Value 1.0 indicates a robot, where value 0.0 indicates human. <br/>\n"
   ]
  },
  {
   "cell_type": "code",
   "execution_count": null,
   "id": "9abe67b8",
   "metadata": {},
   "outputs": [
    {
     "data": {
      "text/html": [
       "<div>\n",
       "<style scoped>\n",
       "    .dataframe tbody tr th:only-of-type {\n",
       "        vertical-align: middle;\n",
       "    }\n",
       "\n",
       "    .dataframe tbody tr th {\n",
       "        vertical-align: top;\n",
       "    }\n",
       "\n",
       "    .dataframe thead th {\n",
       "        text-align: right;\n",
       "    }\n",
       "</style>\n",
       "<table border=\"1\" class=\"dataframe\">\n",
       "  <thead>\n",
       "    <tr style=\"text-align: right;\">\n",
       "      <th></th>\n",
       "      <th>bid_id</th>\n",
       "      <th>bidder_id</th>\n",
       "      <th>auction</th>\n",
       "      <th>merchandise</th>\n",
       "      <th>device</th>\n",
       "      <th>time</th>\n",
       "      <th>country</th>\n",
       "      <th>ip</th>\n",
       "      <th>url</th>\n",
       "      <th>payment_account</th>\n",
       "      <th>address</th>\n",
       "      <th>outcome</th>\n",
       "    </tr>\n",
       "  </thead>\n",
       "  <tbody>\n",
       "    <tr>\n",
       "      <th>0</th>\n",
       "      <td>1</td>\n",
       "      <td>668d393e858e8126275433046bbd35c6tywop</td>\n",
       "      <td>aeqok</td>\n",
       "      <td>furniture</td>\n",
       "      <td>phone1</td>\n",
       "      <td>9759243157894736</td>\n",
       "      <td>in</td>\n",
       "      <td>50.201.125.84</td>\n",
       "      <td>jmqlhflrzwuay9c</td>\n",
       "      <td>a3d2de7675556553a5f08e4c88d2c228ucoac</td>\n",
       "      <td>42a3b61a1fe69d66ad60f3e347aa09b1erfe2</td>\n",
       "      <td>0.0</td>\n",
       "    </tr>\n",
       "    <tr>\n",
       "      <th>1</th>\n",
       "      <td>25</td>\n",
       "      <td>668d393e858e8126275433046bbd35c6tywop</td>\n",
       "      <td>38v0a</td>\n",
       "      <td>furniture</td>\n",
       "      <td>phone4</td>\n",
       "      <td>9759243315789473</td>\n",
       "      <td>bd</td>\n",
       "      <td>147.64.206.30</td>\n",
       "      <td>vasstdc27m7nks3</td>\n",
       "      <td>a3d2de7675556553a5f08e4c88d2c228ucoac</td>\n",
       "      <td>42a3b61a1fe69d66ad60f3e347aa09b1erfe2</td>\n",
       "      <td>0.0</td>\n",
       "    </tr>\n",
       "    <tr>\n",
       "      <th>2</th>\n",
       "      <td>39</td>\n",
       "      <td>668d393e858e8126275433046bbd35c6tywop</td>\n",
       "      <td>aeqok</td>\n",
       "      <td>furniture</td>\n",
       "      <td>phone35</td>\n",
       "      <td>9759243368421052</td>\n",
       "      <td>in</td>\n",
       "      <td>75.11.239.20</td>\n",
       "      <td>i92xwb95qdo901j</td>\n",
       "      <td>a3d2de7675556553a5f08e4c88d2c228ucoac</td>\n",
       "      <td>42a3b61a1fe69d66ad60f3e347aa09b1erfe2</td>\n",
       "      <td>0.0</td>\n",
       "    </tr>\n",
       "    <tr>\n",
       "      <th>3</th>\n",
       "      <td>42</td>\n",
       "      <td>668d393e858e8126275433046bbd35c6tywop</td>\n",
       "      <td>jkyzt</td>\n",
       "      <td>furniture</td>\n",
       "      <td>phone38</td>\n",
       "      <td>9759243368421052</td>\n",
       "      <td>in</td>\n",
       "      <td>215.203.78.242</td>\n",
       "      <td>s4hrzaqd5vbq2he</td>\n",
       "      <td>a3d2de7675556553a5f08e4c88d2c228ucoac</td>\n",
       "      <td>42a3b61a1fe69d66ad60f3e347aa09b1erfe2</td>\n",
       "      <td>0.0</td>\n",
       "    </tr>\n",
       "    <tr>\n",
       "      <th>4</th>\n",
       "      <td>68</td>\n",
       "      <td>668d393e858e8126275433046bbd35c6tywop</td>\n",
       "      <td>h2xrf</td>\n",
       "      <td>furniture</td>\n",
       "      <td>phone57</td>\n",
       "      <td>9759243526315789</td>\n",
       "      <td>in</td>\n",
       "      <td>134.198.237.242</td>\n",
       "      <td>1euklxshlldto4z</td>\n",
       "      <td>a3d2de7675556553a5f08e4c88d2c228ucoac</td>\n",
       "      <td>42a3b61a1fe69d66ad60f3e347aa09b1erfe2</td>\n",
       "      <td>0.0</td>\n",
       "    </tr>\n",
       "  </tbody>\n",
       "</table>\n",
       "</div>"
      ],
      "text/plain": [
       "   bid_id                              bidder_id auction merchandise   device  \\\n",
       "0       1  668d393e858e8126275433046bbd35c6tywop   aeqok   furniture   phone1   \n",
       "1      25  668d393e858e8126275433046bbd35c6tywop   38v0a   furniture   phone4   \n",
       "2      39  668d393e858e8126275433046bbd35c6tywop   aeqok   furniture  phone35   \n",
       "3      42  668d393e858e8126275433046bbd35c6tywop   jkyzt   furniture  phone38   \n",
       "4      68  668d393e858e8126275433046bbd35c6tywop   h2xrf   furniture  phone57   \n",
       "\n",
       "               time country               ip              url  \\\n",
       "0  9759243157894736      in    50.201.125.84  jmqlhflrzwuay9c   \n",
       "1  9759243315789473      bd    147.64.206.30  vasstdc27m7nks3   \n",
       "2  9759243368421052      in     75.11.239.20  i92xwb95qdo901j   \n",
       "3  9759243368421052      in   215.203.78.242  s4hrzaqd5vbq2he   \n",
       "4  9759243526315789      in  134.198.237.242  1euklxshlldto4z   \n",
       "\n",
       "                         payment_account  \\\n",
       "0  a3d2de7675556553a5f08e4c88d2c228ucoac   \n",
       "1  a3d2de7675556553a5f08e4c88d2c228ucoac   \n",
       "2  a3d2de7675556553a5f08e4c88d2c228ucoac   \n",
       "3  a3d2de7675556553a5f08e4c88d2c228ucoac   \n",
       "4  a3d2de7675556553a5f08e4c88d2c228ucoac   \n",
       "\n",
       "                                 address  outcome  \n",
       "0  42a3b61a1fe69d66ad60f3e347aa09b1erfe2      0.0  \n",
       "1  42a3b61a1fe69d66ad60f3e347aa09b1erfe2      0.0  \n",
       "2  42a3b61a1fe69d66ad60f3e347aa09b1erfe2      0.0  \n",
       "3  42a3b61a1fe69d66ad60f3e347aa09b1erfe2      0.0  \n",
       "4  42a3b61a1fe69d66ad60f3e347aa09b1erfe2      0.0  "
      ]
     },
     "execution_count": 17,
     "metadata": {},
     "output_type": "execute_result"
    }
   ],
   "source": [
    "result.head(5)"
   ]
  },
  {
   "cell_type": "markdown",
   "id": "1a39864f",
   "metadata": {},
   "source": [
    "## Change and select dataset of 2000 sample:\n",
    "according to the features\n",
    "e vedendo che sono inutilizzabili (oggetti da encodare)\n",
    "\n",
    "Switchamo joinando il dataset bids al dataset train \n",
    "\n",
    "Merge:\n",
    "-quanti dispositivi\n",
    "-quanti paesi\n",
    "-quante offerte\n",
    "-quanti payment account\n",
    "-quante aste"
   ]
  }
 ],
 "metadata": {
  "kernelspec": {
   "display_name": "Python 3",
   "language": "python",
   "name": "python3"
  },
  "language_info": {
   "codemirror_mode": {
    "name": "ipython",
    "version": 3
   },
   "file_extension": ".py",
   "mimetype": "text/x-python",
   "name": "python",
   "nbconvert_exporter": "python",
   "pygments_lexer": "ipython3",
   "version": "3.11.0"
  }
 },
 "nbformat": 4,
 "nbformat_minor": 5
}
