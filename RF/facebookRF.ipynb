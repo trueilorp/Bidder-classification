{
 "cells": [
  {
   "cell_type": "code",
   "execution_count": null,
   "id": "7a507185",
   "metadata": {},
   "outputs": [],
   "source": [
    "import pandas as pd\n",
    "\n",
    "bids = pd.read_csv('Data/facebook/bids.csv')\n",
    "train = pd.read_csv('Data/facebook/train.csv')\n",
    "test = pd.read_csv('Data/facebook/test.csv')"
   ]
  }
 ],
 "metadata": {
  "kernelspec": {
   "display_name": "Python 3",
   "language": "python",
   "name": "python3"
  },
  "language_info": {
   "codemirror_mode": {
    "name": "ipython",
    "version": 3
   },
   "file_extension": ".py",
   "mimetype": "text/x-python",
   "name": "python",
   "nbconvert_exporter": "python",
   "pygments_lexer": "ipython3",
   "version": "3.11.0"
  }
 },
 "nbformat": 4,
 "nbformat_minor": 5
}
